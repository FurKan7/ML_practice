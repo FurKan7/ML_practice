{
 "cells": [
  {
   "cell_type": "code",
   "execution_count": 1,
   "metadata": {},
   "outputs": [],
   "source": [
    "%load_ext autoreload\n",
    "%autoreload 2"
   ]
  },
  {
   "cell_type": "code",
   "execution_count": 2,
   "metadata": {},
   "outputs": [],
   "source": [
    "import pandas as pd\n",
    "from feature_extraction import Featurizer\n",
    "pd.set_option('display.max_columns', None)\n",
    "\n",
    "pd.options.mode.chained_assignment = None  # removes some annoying warnings"
   ]
  },
  {
   "cell_type": "code",
   "execution_count": 3,
   "metadata": {},
   "outputs": [],
   "source": [
    "train_df = pd.read_csv(\"./train.csv\")\n",
    "test_df = pd.read_csv(\"./test.csv\")\n",
    "\n",
    "drop_cols = [\"Name\", \"Ticket\", \"Cabin\", \"Embarked\", \"PassengerId\"]\n",
    "featurizer = Featurizer(drop_cols)\n",
    "train_df, val_df = featurizer.get_train_features(train_df)"
   ]
  },
  {
   "cell_type": "code",
   "execution_count": 4,
   "metadata": {},
   "outputs": [],
   "source": [
    "train_df.fillna({\"Age\": train_df[\"Age\"].median()}, inplace=True)\n",
    "val_df.fillna({\"Age\": train_df[\"Age\"].median()}, inplace=True)"
   ]
  },
  {
   "cell_type": "code",
   "execution_count": 5,
   "metadata": {},
   "outputs": [],
   "source": [
    "from sklearn.metrics import accuracy_score\n",
    "from sklearn.ensemble import GradientBoostingClassifier\n",
    "import matplotlib.pyplot as plt\n",
    "from tqdm.auto import tqdm\n",
    "\n",
    "%matplotlib inline"
   ]
  },
  {
   "cell_type": "code",
   "execution_count": 7,
   "metadata": {},
   "outputs": [
    {
     "data": {
      "application/vnd.jupyter.widget-view+json": {
       "model_id": "a3fedc371cc24163ad73f11e04290b98",
       "version_major": 2,
       "version_minor": 0
      },
      "text/plain": [
       "HBox(children=(FloatProgress(value=0.0, max=40.0), HTML(value='')))"
      ]
     },
     "metadata": {},
     "output_type": "display_data"
    },
    {
     "name": "stdout",
     "output_type": "stream",
     "text": [
      "\n"
     ]
    },
    {
     "data": {
      "image/png": "[encoded data removed]",
      "text/plain": [
       "<Figure size 432x288 with 1 Axes>"
      ]
     },
     "metadata": {
      "needs_background": "light"
     },
     "output_type": "display_data"
    }
   ],
   "source": [
    "train_acc = []\n",
    "val_acc = []\n",
    "for i in tqdm(range(40)):\n",
    "    model = GradientBoostingClassifier(n_estimators=2, max_depth=i+1)\n",
    "    model.fit(train_df.drop(\"Survived\", axis=1), train_df[\"Survived\"])\n",
    "    y_pred = model.predict(train_df.drop(\"Survived\", axis=1))\n",
    "    train_acc.append(\n",
    "        accuracy_score(train_df[\"Survived\"].values.squeeze(), y_pred.squeeze())\n",
    "    )\n",
    "    \n",
    "    y_pred = model.predict(val_df.drop(\"Survived\", axis=1))\n",
    "    val_acc.append(\n",
    "        accuracy_score(val_df[\"Survived\"].values.squeeze(), y_pred.squeeze())\n",
    "    )\n",
    "    \n",
    "plt.plot(train_acc, label=\"Training Acc\")\n",
    "plt.plot(val_acc, label=\"Validation Acc\")\n",
    "plt.xlabel(\"Iteration\")\n",
    "plt.ylabel(\"Accuracy\")\n",
    "plt.legend()\n",
    "plt.show()"
   ]
  },
  {
   "cell_type": "code",
   "execution_count": null,
   "metadata": {},
   "outputs": [],
   "source": []
  }
 ],
 "metadata": {
  "kernelspec": {
   "display_name": "Python 3.7.6 64-bit ('base': conda)",
   "language": "python",
   "name": "python37664bitbaseconda80fe5c60686e44919b5f649c574df925"
  },
  "language_info": {
   "codemirror_mode": {
    "name": "ipython",
    "version": 3
   },
   "file_extension": ".py",
   "mimetype": "text/x-python",
   "name": "python",
   "nbconvert_exporter": "python",
   "pygments_lexer": "ipython3",
   "version": "3.7.6"
  }
 },
 "nbformat": 4,
 "nbformat_minor": 4
}
