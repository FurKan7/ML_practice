{
 "cells": [
  {
   "cell_type": "code",
   "execution_count": 1,
   "metadata": {},
   "outputs": [],
   "source": [
    "%load_ext autoreload\n",
    "%autoreload 2"
   ]
  },
  {
   "cell_type": "code",
   "execution_count": 2,
   "metadata": {},
   "outputs": [],
   "source": [
    "import pandas as pd\n",
    "from feature_extraction import Featurizer\n",
    "pd.set_option('display.max_columns', None)"
   ]
  },
  {
   "cell_type": "code",
   "execution_count": 3,
   "metadata": {},
   "outputs": [
    {
     "name": "stderr",
     "output_type": "stream",
     "text": [
      "/Users/sachinthaka/Google Drive/udemy_courses/python_data_science/classification/feature_extraction.py:20: SettingWithCopyWarning: \n",
      "A value is trying to be set on a copy of a slice from a DataFrame.\n",
      "Try using .loc[row_indexer,col_indexer] = value instead\n",
      "\n",
      "See the caveats in the documentation: https://pandas.pydata.org/pandas-docs/stable/user_guide/indexing.html#returning-a-view-versus-a-copy\n",
      "  train_df[\"Sex\"] = self.le.fit_transform(train_df[\"Sex\"])\n",
      "/Users/sachinthaka/Google Drive/udemy_courses/python_data_science/classification/feature_extraction.py:21: SettingWithCopyWarning: \n",
      "A value is trying to be set on a copy of a slice from a DataFrame.\n",
      "Try using .loc[row_indexer,col_indexer] = value instead\n",
      "\n",
      "See the caveats in the documentation: https://pandas.pydata.org/pandas-docs/stable/user_guide/indexing.html#returning-a-view-versus-a-copy\n",
      "  val_df[\"Sex\"] = self.le.transform(val_df[\"Sex\"])\n",
      "/Users/sachinthaka/opt/miniconda3/lib/python3.7/site-packages/pandas/core/frame.py:4164: SettingWithCopyWarning: \n",
      "A value is trying to be set on a copy of a slice from a DataFrame\n",
      "\n",
      "See the caveats in the documentation: https://pandas.pydata.org/pandas-docs/stable/user_guide/indexing.html#returning-a-view-versus-a-copy\n",
      "  errors=errors,\n",
      "/Users/sachinthaka/opt/miniconda3/lib/python3.7/site-packages/pandas/core/frame.py:4164: SettingWithCopyWarning: \n",
      "A value is trying to be set on a copy of a slice from a DataFrame\n",
      "\n",
      "See the caveats in the documentation: https://pandas.pydata.org/pandas-docs/stable/user_guide/indexing.html#returning-a-view-versus-a-copy\n",
      "  errors=errors,\n"
     ]
    }
   ],
   "source": [
    "train_df = pd.read_csv(\"./train.csv\")\n",
    "test_df = pd.read_csv(\"./test.csv\")\n",
    "\n",
    "drop_cols = [\"Name\", \"Age\", \"Ticket\", \"Cabin\", \"Embarked\", \"PassengerId\"]\n",
    "featurizer = Featurizer(drop_cols)\n",
    "train_df, val_df = featurizer.get_train_features(train_df)"
   ]
  },
  {
   "cell_type": "code",
   "execution_count": 4,
   "metadata": {},
   "outputs": [],
   "source": [
    "from sklearn.linear_model import LogisticRegression\n",
    "from sklearn.metrics import accuracy_score"
   ]
  },
  {
   "cell_type": "code",
   "execution_count": 5,
   "metadata": {},
   "outputs": [],
   "source": [
    "model = LogisticRegression()\n",
    "model.fit(train_df.drop(\"Survived\", axis=1), train_df[\"Survived\"])\n",
    "y_pred = model.predict(train_df.drop(\"Survived\", axis=1))"
   ]
  },
  {
   "cell_type": "code",
   "execution_count": 6,
   "metadata": {},
   "outputs": [
    {
     "data": {
      "text/plain": [
       "0.7952559300873908"
      ]
     },
     "execution_count": 6,
     "metadata": {},
     "output_type": "execute_result"
    }
   ],
   "source": [
    "accuracy_score(train_df[\"Survived\"].values.squeeze(), y_pred.squeeze())"
   ]
  },
  {
   "cell_type": "code",
   "execution_count": 7,
   "metadata": {},
   "outputs": [
    {
     "data": {
      "text/plain": [
       "0.8222222222222222"
      ]
     },
     "execution_count": 7,
     "metadata": {},
     "output_type": "execute_result"
    }
   ],
   "source": [
    "y_pred = model.predict(val_df.drop(\"Survived\", axis=1))\n",
    "accuracy_score(val_df[\"Survived\"].values.squeeze(), y_pred.squeeze())"
   ]
  },
  {
   "cell_type": "code",
   "execution_count": 8,
   "metadata": {},
   "outputs": [
    {
     "data": {
      "text/plain": [
       "sklearn.linear_model._logistic.LogisticRegression"
      ]
     },
     "execution_count": 8,
     "metadata": {},
     "output_type": "execute_result"
    }
   ],
   "source": [
    "type(model)"
   ]
  },
  {
   "cell_type": "code",
   "execution_count": 9,
   "metadata": {},
   "outputs": [],
   "source": [
    "from typing import Callable, Dict, List, Tuple\n",
    "\n",
    "class Model():\n",
    "    def __init__(\n",
    "        self, \n",
    "        y_col: str,\n",
    "        model: Callable, \n",
    "        metrics:Dict[str, Tuple[str, Callable]]=accuracy_score,\n",
    "                ) -> None:\n",
    "        self.model = model\n",
    "        self.metrics = metrics\n",
    "        self.y_col = y_col\n",
    "        \n",
    "    def print_metric(self, \n",
    "                     metric:Callable, \n",
    "                     metric_name: str,\n",
    "                     metric_y_type: str,\n",
    "                     df:pd.DataFrame, \n",
    "                     data_type:str) -> None:\n",
    "        y_class = self.model.predict(df.drop(self.y_col, axis=1))\n",
    "        y_prob = self.model.predict_proba(df.drop(self.y_col, axis=1))\n",
    "        if metric_y_type == \"prob\":\n",
    "            y_pred= y_prob\n",
    "        else:\n",
    "            y_pred = y_class\n",
    "        metric_val = metric(df[self.y_col].values.squeeze(), y_pred.squeeze())\n",
    "        print(f\"{data_type} {metric_name}: {metric_val:.4f}\")\n",
    "        \n",
    "    def fit(self, train_df: pd.DataFrame, val_df: pd.DataFrame) -> None:\n",
    "        self.model.fit(train_df.drop(self.y_col, axis=1), train_df[self.y_col])\n",
    "        \n",
    "        for name, (metric_y_type, metric) in self.metrics.items():\n",
    "            self.print_metric(metric, name, metric_y_type, train_df, \"Training\")\n",
    "            self.print_metric(metric, name, metric_y_type, val_df, \"Validation\")"
   ]
  },
  {
   "cell_type": "code",
   "execution_count": 10,
   "metadata": {},
   "outputs": [],
   "source": [
    "metric_list = {\"Accuracy\": (\"class\", accuracy_score)}"
   ]
  },
  {
   "cell_type": "code",
   "execution_count": 11,
   "metadata": {},
   "outputs": [
    {
     "name": "stdout",
     "output_type": "stream",
     "text": [
      "Training Accuracy: 0.7953\n",
      "Validation Accuracy: 0.8222\n"
     ]
    }
   ],
   "source": [
    "logistic = LogisticRegression()\n",
    "model = Model(\"Survived\", logistic, metric_list)\n",
    "model.fit(train_df, val_df)"
   ]
  },
  {
   "cell_type": "code",
   "execution_count": 12,
   "metadata": {},
   "outputs": [
    {
     "name": "stdout",
     "output_type": "stream",
     "text": [
      "Training Accuracy: 0.8127\n",
      "Validation Accuracy: 0.8000\n"
     ]
    }
   ],
   "source": [
    "from sklearn.ensemble import RandomForestClassifier\n",
    "\n",
    "random_forest = RandomForestClassifier(n_estimators=50, max_depth=3)\n",
    "model = Model(\"Survived\", random_forest, metric_list)\n",
    "model.fit(train_df, val_df)"
   ]
  },
  {
   "cell_type": "code",
   "execution_count": 13,
   "metadata": {},
   "outputs": [
    {
     "name": "stdout",
     "output_type": "stream",
     "text": [
      "Training Accuracy: 0.8764\n",
      "Validation Accuracy: 0.7778\n"
     ]
    }
   ],
   "source": [
    "from sklearn.gaussian_process import GaussianProcessClassifier\n",
    "\n",
    "gp = GaussianProcessClassifier()\n",
    "model = Model(\"Survived\", gp, metric_list)\n",
    "model.fit(train_df, val_df)"
   ]
  },
  {
   "cell_type": "code",
   "execution_count": 14,
   "metadata": {},
   "outputs": [],
   "source": [
    "from sklearn import metrics\n",
    "\n",
    "def auc(y, pred):\n",
    "    fpr, tpr, _ = metrics.roc_curve(y, pred[:, 1])\n",
    "    return metrics.auc(fpr, tpr)"
   ]
  },
  {
   "cell_type": "code",
   "execution_count": 15,
   "metadata": {},
   "outputs": [],
   "source": [
    "metric_list[\"AUC\"] = (\"prob\", auc)"
   ]
  },
  {
   "cell_type": "code",
   "execution_count": 16,
   "metadata": {},
   "outputs": [
    {
     "name": "stdout",
     "output_type": "stream",
     "text": [
      "Training Accuracy: 0.7953\n",
      "Validation Accuracy: 0.8222\n",
      "Training AUC: 0.8306\n",
      "Validation AUC: 0.8840\n",
      "==============================\n",
      "Training Accuracy: 0.8140\n",
      "Validation Accuracy: 0.8111\n",
      "Training AUC: 0.8597\n",
      "Validation AUC: 0.8827\n",
      "==============================\n",
      "Training Accuracy: 0.8764\n",
      "Validation Accuracy: 0.7778\n",
      "Training AUC: 0.8937\n",
      "Validation AUC: 0.8228\n",
      "==============================\n"
     ]
    }
   ],
   "source": [
    "for model_ in [logistic, random_forest, gp]:\n",
    "    model = Model(\"Survived\", model_, metric_list)\n",
    "    model.fit(train_df, val_df)\n",
    "    print(\"=\"*30)"
   ]
  },
  {
   "cell_type": "code",
   "execution_count": null,
   "metadata": {},
   "outputs": [],
   "source": []
  }
 ],
 "metadata": {
  "kernelspec": {
   "display_name": "Python 3.7.6 64-bit ('base': conda)",
   "language": "python",
   "name": "python37664bitbaseconda80fe5c60686e44919b5f649c574df925"
  },
  "language_info": {
   "codemirror_mode": {
    "name": "ipython",
    "version": 3
   },
   "file_extension": ".py",
   "mimetype": "text/x-python",
   "name": "python",
   "nbconvert_exporter": "python",
   "pygments_lexer": "ipython3",
   "version": "3.7.6"
  }
 },
 "nbformat": 4,
 "nbformat_minor": 4
}
