{
 "cells": [
  {
   "cell_type": "code",
   "execution_count": 2,
   "metadata": {},
   "outputs": [],
   "source": [
    "%load_ext autoreload\n",
    "%autoreload 2"
   ]
  },
  {
   "cell_type": "code",
   "execution_count": 3,
   "metadata": {},
   "outputs": [],
   "source": [
    "import numpy as np\n",
    "import pandas as pd\n",
    "from feature_extraction import Featurizer\n",
    "pd.set_option('display.max_columns', None)\n",
    "\n",
    "pd.options.mode.chained_assignment = None  # default='warn'"
   ]
  },
  {
   "cell_type": "code",
   "execution_count": 4,
   "metadata": {},
   "outputs": [],
   "source": [
    "train_df = pd.read_csv(\"./train.csv\")\n",
    "test_df = pd.read_csv(\"./test.csv\")\n",
    "\n",
    "drop_cols = [\"Name\", \"Ticket\", \"Cabin\", \"Embarked\", \"PassengerId\", \"Age\"]\n",
    "featurizer = Featurizer(drop_cols)\n",
    "train_df, val_df = featurizer.get_train_features(train_df)\n",
    "train_df = pd.concat([train_df, val_df])"
   ]
  },
  {
   "cell_type": "code",
   "execution_count": 5,
   "metadata": {},
   "outputs": [
    {
     "data": {
      "text/plain": [
       "array([0.7877095 , 0.78651685, 0.79775281, 0.75842697, 0.84269663])"
      ]
     },
     "execution_count": 5,
     "metadata": {},
     "output_type": "execute_result"
    }
   ],
   "source": [
    "from sklearn.model_selection import cross_val_score\n",
    "from sklearn.linear_model import LogisticRegression\n",
    "\n",
    "\n",
    "model = LogisticRegression()\n",
    "cross_val_score(model, train_df.drop(\"Survived\", axis=1), train_df[\"Survived\"], cv=5)"
   ]
  },
  {
   "cell_type": "markdown",
   "metadata": {},
   "source": [
    "The inputs to the `scoring` argument can be found [here](https://scikit-learn.org/stable/modules/model_evaluation.html). The default accuracy is ok, but is usually not the only thing you want to look at:"
   ]
  },
  {
   "cell_type": "code",
   "execution_count": 5,
   "metadata": {},
   "outputs": [
    {
     "data": {
      "text/plain": [
       "array([0.7877095 , 0.78651685, 0.79775281, 0.75842697, 0.84269663])"
      ]
     },
     "execution_count": 5,
     "metadata": {},
     "output_type": "execute_result"
    }
   ],
   "source": [
    "cross_val_score(model, train_df.drop(\"Survived\", axis=1), train_df[\"Survived\"], cv=5, scoring=\"accuracy\")"
   ]
  },
  {
   "cell_type": "code",
   "execution_count": 6,
   "metadata": {},
   "outputs": [
    {
     "data": {
      "text/plain": [
       "array([0.85289855, 0.83273501, 0.81336898, 0.77372995, 0.8967246 ])"
      ]
     },
     "execution_count": 6,
     "metadata": {},
     "output_type": "execute_result"
    }
   ],
   "source": [
    "cross_val_score(model, train_df.drop(\"Survived\", axis=1), train_df[\"Survived\"], cv=5, scoring=\"roc_auc\")"
   ]
  },
  {
   "cell_type": "code",
   "execution_count": 7,
   "metadata": {},
   "outputs": [],
   "source": [
    "from sklearn.metrics import roc_auc_score\n",
    "\n",
    "def model_score(model, train_df, val_df, y_col, metric):\n",
    "    model.fit(train_df.drop(y_col, axis=1), train_df[y_col])\n",
    "    \n",
    "\n",
    "    dist = train_df[y_col].mean()\n",
    "    \n",
    "    y_pred = model.predict_proba(train_df.drop(y_col, axis=1))[:, 1]\n",
    "    train_metric = metric(train_df[y_col].values.squeeze(), y_pred.squeeze())\n",
    "\n",
    "    y_pred = model.predict_proba(val_df.drop(y_col, axis=1))[:, 1]\n",
    "    val_metric = metric(val_df[y_col].values.squeeze(), y_pred.squeeze())\n",
    "    \n",
    "    print(f\"Survived: {dist:.4f} Train metric: {train_metric:.4f} Validation metric: {val_metric:.4f}\")"
   ]
  },
  {
   "cell_type": "code",
   "execution_count": 8,
   "metadata": {},
   "outputs": [
    {
     "name": "stdout",
     "output_type": "stream",
     "text": [
      "Survived: 0.3834 Train metric: 0.8490 Validation metric: 0.7866\n",
      "Survived: 0.3829 Train metric: 0.8417 Validation metric: 0.8131\n",
      "Survived: 0.3843 Train metric: 0.8334 Validation metric: 0.8451\n",
      "Survived: 0.3843 Train metric: 0.8362 Validation metric: 0.8318\n",
      "Survived: 0.3843 Train metric: 0.8241 Validation metric: 0.8791\n"
     ]
    }
   ],
   "source": [
    "from sklearn.model_selection import StratifiedKFold\n",
    "\n",
    "skf = StratifiedKFold(n_splits=5, random_state=42, shuffle=True)\n",
    "scores = []\n",
    "val_idxs = []\n",
    "for tr_idx, val_idx in skf.split(train_df.drop(\"Survived\", axis=1), train_df[\"Survived\"]):\n",
    "    model = LogisticRegression()\n",
    "    model_score(\n",
    "        model, \n",
    "        train_df.iloc[tr_idx], \n",
    "        train_df.iloc[val_idx],\n",
    "        \"Survived\",\n",
    "        roc_auc_score\n",
    "    )\n",
    "    val_idxs.extend(val_idx)\n",
    "    \n",
    "# print(scores)"
   ]
  },
  {
   "cell_type": "code",
   "execution_count": 13,
   "metadata": {},
   "outputs": [
    {
     "data": {
      "text/plain": [
       "891"
      ]
     },
     "execution_count": 13,
     "metadata": {},
     "output_type": "execute_result"
    }
   ],
   "source": [
    "len(set(val_idxs))"
   ]
  },
  {
   "cell_type": "code",
   "execution_count": 9,
   "metadata": {},
   "outputs": [],
   "source": [
    "train_df = pd.read_csv(\"./train.csv\")\n",
    "test_df = pd.read_csv(\"./test.csv\")\n",
    "\n",
    "drop_cols = [\"Name\", \"Ticket\", \"Cabin\", \"Embarked\", \"PassengerId\"]\n",
    "featurizer = Featurizer(drop_cols)\n",
    "train_df, val_df = featurizer.get_train_features(train_df)\n",
    "train_df = pd.concat([train_df, val_df])"
   ]
  },
  {
   "cell_type": "code",
   "execution_count": 10,
   "metadata": {},
   "outputs": [
    {
     "name": "stdout",
     "output_type": "stream",
     "text": [
      "Survived: 0.3834 Train metric: 0.8586 Validation metric: 0.8277\n",
      "Survived: 0.3829 Train metric: 0.8657 Validation metric: 0.8005\n",
      "Survived: 0.3843 Train metric: 0.8545 Validation metric: 0.8517\n",
      "Survived: 0.3843 Train metric: 0.8528 Validation metric: 0.8635\n",
      "Survived: 0.3843 Train metric: 0.8456 Validation metric: 0.8893\n"
     ]
    }
   ],
   "source": [
    "from sklearn.model_selection import StratifiedKFold\n",
    "\n",
    "skf = StratifiedKFold(n_splits=5, random_state=42, shuffle=True)\n",
    "scores = []\n",
    "for tr_idx, val_idx in skf.split(train_df.drop(\"Survived\", axis=1), train_df[\"Survived\"]):\n",
    "    model = LogisticRegression(max_iter=200)\n",
    "    tr_df = train_df.iloc[tr_idx].copy()\n",
    "    val_df = train_df.iloc[val_idx].copy()\n",
    "    tr_df.fillna({\"Age\": tr_df[\"Age\"].median()}, inplace=True)\n",
    "    val_df.fillna({\"Age\": tr_df[\"Age\"].median()}, inplace=True)\n",
    "    model_score(\n",
    "        model, \n",
    "        tr_df, \n",
    "        val_df,\n",
    "        \"Survived\",\n",
    "        roc_auc_score\n",
    "    )"
   ]
  },
  {
   "cell_type": "code",
   "execution_count": null,
   "metadata": {},
   "outputs": [],
   "source": []
  }
 ],
 "metadata": {
  "kernelspec": {
   "display_name": "Python 3.7.6 64-bit ('base': conda)",
   "language": "python",
   "name": "python37664bitbaseconda80fe5c60686e44919b5f649c574df925"
  },
  "language_info": {
   "codemirror_mode": {
    "name": "ipython",
    "version": 3
   },
   "file_extension": ".py",
   "mimetype": "text/x-python",
   "name": "python",
   "nbconvert_exporter": "python",
   "pygments_lexer": "ipython3",
   "version": "3.7.6"
  }
 },
 "nbformat": 4,
 "nbformat_minor": 4
}
