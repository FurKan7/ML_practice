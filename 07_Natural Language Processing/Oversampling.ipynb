{
 "cells": [
  {
   "cell_type": "markdown",
   "metadata": {},
   "source": [
    "For this section we will look at simple ways of processing text to do classification. The news 20 dataset is usually how most courses will get into this, but we will look into a kaggle dataset in financial sentiment analysis instead. Please download the dataset from [here](https://www.kaggle.com/ankurzing/sentiment-analysis-for-financial-news). Place the dataset somewhere and change the first line in cell 2 accordingly.\n",
    "\n",
    "However, I do suggest that you have a browse through the analysis done on news20 dataset as shown in [sklearn docs](https://scikit-learn.org/0.19/auto_examples/applications/plot_topics_extraction_with_nmf_lda.html#sphx-glr-auto-examples-applications-plot-topics-extraction-with-nmf-lda-py)."
   ]
  },
  {
   "cell_type": "code",
   "execution_count": 1,
   "metadata": {},
   "outputs": [],
   "source": [
    "import pandas as pd\n",
    "from sklearn.preprocessing import LabelEncoder"
   ]
  },
  {
   "cell_type": "markdown",
   "metadata": {},
   "source": [
    "Note that this `cp437` encoding is rare, and do not worry about it. If you ever do require some encoding to read in data it will most likely be \"utf-8\" or similar.\n",
    "\n",
    "Also note how I haven't done the label encoder transformation _after_ the train test split. This is probably one of the few functions where it doesn't matter, as we are only converting labels to numbers, and in this case at least, won't cause any data leakage."
   ]
  },
  {
   "cell_type": "code",
   "execution_count": 2,
   "metadata": {},
   "outputs": [
    {
     "data": {
      "text/html": [
       "<div>\n",
       "<style scoped>\n",
       "    .dataframe tbody tr th:only-of-type {\n",
       "        vertical-align: middle;\n",
       "    }\n",
       "\n",
       "    .dataframe tbody tr th {\n",
       "        vertical-align: top;\n",
       "    }\n",
       "\n",
       "    .dataframe thead th {\n",
       "        text-align: right;\n",
       "    }\n",
       "</style>\n",
       "<table border=\"1\" class=\"dataframe\">\n",
       "  <thead>\n",
       "    <tr style=\"text-align: right;\">\n",
       "      <th></th>\n",
       "      <th>sentiment</th>\n",
       "      <th>text</th>\n",
       "      <th>y</th>\n",
       "    </tr>\n",
       "  </thead>\n",
       "  <tbody>\n",
       "    <tr>\n",
       "      <th>0</th>\n",
       "      <td>neutral</td>\n",
       "      <td>According to Gran , the company has no plans t...</td>\n",
       "      <td>1</td>\n",
       "    </tr>\n",
       "    <tr>\n",
       "      <th>1</th>\n",
       "      <td>neutral</td>\n",
       "      <td>Technopolis plans to develop in stages an area...</td>\n",
       "      <td>1</td>\n",
       "    </tr>\n",
       "    <tr>\n",
       "      <th>2</th>\n",
       "      <td>negative</td>\n",
       "      <td>The international electronic industry company ...</td>\n",
       "      <td>0</td>\n",
       "    </tr>\n",
       "    <tr>\n",
       "      <th>3</th>\n",
       "      <td>positive</td>\n",
       "      <td>With the new production plant the company woul...</td>\n",
       "      <td>2</td>\n",
       "    </tr>\n",
       "    <tr>\n",
       "      <th>4</th>\n",
       "      <td>positive</td>\n",
       "      <td>According to the company 's updated strategy f...</td>\n",
       "      <td>2</td>\n",
       "    </tr>\n",
       "    <tr>\n",
       "      <th>...</th>\n",
       "      <td>...</td>\n",
       "      <td>...</td>\n",
       "      <td>...</td>\n",
       "    </tr>\n",
       "    <tr>\n",
       "      <th>4841</th>\n",
       "      <td>negative</td>\n",
       "      <td>LONDON MarketWatch -- Share prices ended lower...</td>\n",
       "      <td>0</td>\n",
       "    </tr>\n",
       "    <tr>\n",
       "      <th>4842</th>\n",
       "      <td>neutral</td>\n",
       "      <td>Rinkuskiai 's beer sales fell by 6.5 per cent ...</td>\n",
       "      <td>1</td>\n",
       "    </tr>\n",
       "    <tr>\n",
       "      <th>4843</th>\n",
       "      <td>negative</td>\n",
       "      <td>Operating profit fell to EUR 35.4 mn from EUR ...</td>\n",
       "      <td>0</td>\n",
       "    </tr>\n",
       "    <tr>\n",
       "      <th>4844</th>\n",
       "      <td>negative</td>\n",
       "      <td>Net sales of the Paper segment decreased to EU...</td>\n",
       "      <td>0</td>\n",
       "    </tr>\n",
       "    <tr>\n",
       "      <th>4845</th>\n",
       "      <td>negative</td>\n",
       "      <td>Sales in Finland decreased by 10.5 % in Januar...</td>\n",
       "      <td>0</td>\n",
       "    </tr>\n",
       "  </tbody>\n",
       "</table>\n",
       "<p>4846 rows × 3 columns</p>\n",
       "</div>"
      ],
      "text/plain": [
       "     sentiment                                               text  y\n",
       "0      neutral  According to Gran , the company has no plans t...  1\n",
       "1      neutral  Technopolis plans to develop in stages an area...  1\n",
       "2     negative  The international electronic industry company ...  0\n",
       "3     positive  With the new production plant the company woul...  2\n",
       "4     positive  According to the company 's updated strategy f...  2\n",
       "...        ...                                                ... ..\n",
       "4841  negative  LONDON MarketWatch -- Share prices ended lower...  0\n",
       "4842   neutral  Rinkuskiai 's beer sales fell by 6.5 per cent ...  1\n",
       "4843  negative  Operating profit fell to EUR 35.4 mn from EUR ...  0\n",
       "4844  negative  Net sales of the Paper segment decreased to EU...  0\n",
       "4845  negative  Sales in Finland decreased by 10.5 % in Januar...  0\n",
       "\n",
       "[4846 rows x 3 columns]"
      ]
     },
     "execution_count": 2,
     "metadata": {},
     "output_type": "execute_result"
    }
   ],
   "source": [
    "df = pd.read_csv(\"/tmp/all-data.csv\", \n",
    "                 encoding='cp437', \n",
    "                 header=None, \n",
    "                 names=[\"sentiment\", \"text\"])\n",
    "le = LabelEncoder()\n",
    "df[\"y\"] = le.fit_transform(df[\"sentiment\"])\n",
    "df"
   ]
  },
  {
   "cell_type": "code",
   "execution_count": 3,
   "metadata": {},
   "outputs": [
    {
     "name": "stderr",
     "output_type": "stream",
     "text": [
      "/Users/sachinthaka/opt/miniconda3/lib/python3.7/site-packages/requests/__init__.py:91: RequestsDependencyWarning: urllib3 (1.26.2) or chardet (3.0.4) doesn't match a supported version!\n",
      "  RequestsDependencyWarning)\n"
     ]
    },
    {
     "name": "stdout",
     "output_type": "stream",
     "text": [
      "According to Gran , the company has no plans to move all production to Russia , although that is where the company is growing .\n",
      "Gran PERSON\n",
      "Russia GPE\n"
     ]
    }
   ],
   "source": [
    "import spacy\n",
    "\n",
    "nlp = spacy.load(\"en_core_web_sm\")\n",
    "\n",
    "doc = nlp(df[\"text\"].values[0])\n",
    "print(doc)\n",
    "\n",
    "for entity in doc.ents:\n",
    "    print(entity.text, entity.label_)"
   ]
  },
  {
   "cell_type": "code",
   "execution_count": 4,
   "metadata": {},
   "outputs": [
    {
     "name": "stderr",
     "output_type": "stream",
     "text": [
      "/Users/sachinthaka/opt/miniconda3/lib/python3.7/site-packages/tqdm/std.py:658: FutureWarning: The Panel class is removed from pandas. Accessing it from the top-level namespace will also be removed in the next version\n",
      "  from pandas import Panel\n"
     ]
    },
    {
     "data": {
      "application/vnd.jupyter.widget-view+json": {
       "model_id": "d8f130d2172143fdaef6227abcc0eb9a",
       "version_major": 2,
       "version_minor": 0
      },
      "text/plain": [
       "HBox(children=(FloatProgress(value=0.0, max=4846.0), HTML(value='')))"
      ]
     },
     "metadata": {},
     "output_type": "display_data"
    },
    {
     "name": "stdout",
     "output_type": "stream",
     "text": [
      "\n"
     ]
    }
   ],
   "source": [
    "from tqdm.auto import tqdm\n",
    "tqdm.pandas()\n",
    "\n",
    "df[\"ents\"] = df[\"text\"].progress_map(lambda text: [(entity.text, entity.label_) \n",
    "                                          for entity in nlp(text).ents])"
   ]
  },
  {
   "cell_type": "code",
   "execution_count": 5,
   "metadata": {},
   "outputs": [
    {
     "data": {
      "application/vnd.jupyter.widget-view+json": {
       "model_id": "9a434c8d2f0347039da48bd798e3f3e8",
       "version_major": 2,
       "version_minor": 0
      },
      "text/plain": [
       "HBox(children=(FloatProgress(value=0.0, max=4846.0), HTML(value='')))"
      ]
     },
     "metadata": {},
     "output_type": "display_data"
    },
    {
     "name": "stdout",
     "output_type": "stream",
     "text": [
      "\n"
     ]
    }
   ],
   "source": [
    "df[\"ent_types\"] = df[\"ents\"].progress_map(lambda x: set(ent[1] for ent in x))"
   ]
  },
  {
   "cell_type": "code",
   "execution_count": 6,
   "metadata": {},
   "outputs": [
    {
     "data": {
      "application/vnd.jupyter.widget-view+json": {
       "model_id": "475a7b900cb64368989d8e3b9bdaa865",
       "version_major": 2,
       "version_minor": 0
      },
      "text/plain": [
       "HBox(children=(FloatProgress(value=0.0, max=4846.0), HTML(value='')))"
      ]
     },
     "metadata": {},
     "output_type": "display_data"
    },
    {
     "name": "stdout",
     "output_type": "stream",
     "text": [
      "\n"
     ]
    }
   ],
   "source": [
    "def replace_text(text, entities):\n",
    "    for ent, ent_type in entities:\n",
    "        text = text.replace(ent, ent_type)\n",
    "        \n",
    "    return text\n",
    "\n",
    "df[\"format_text\"] = df.progress_apply(lambda x: replace_text(x[\"text\"], x[\"ents\"]), axis=1)"
   ]
  },
  {
   "cell_type": "code",
   "execution_count": 7,
   "metadata": {},
   "outputs": [],
   "source": [
    "from sklearn.feature_extraction.text import TfidfVectorizer, CountVectorizer\n",
    "from sklearn.model_selection import train_test_split"
   ]
  },
  {
   "cell_type": "code",
   "execution_count": 8,
   "metadata": {},
   "outputs": [],
   "source": [
    "train_df, test_df = train_test_split(df, stratify=df[\"y\"], test_size=0.1)"
   ]
  },
  {
   "cell_type": "code",
   "execution_count": 9,
   "metadata": {},
   "outputs": [],
   "source": [
    "from imblearn.over_sampling import RandomOverSampler\n",
    "\n",
    "ros = RandomOverSampler(random_state=42)\n",
    "trainX, trainY = ros.fit_resample(train_df.drop(\"y\", axis=1), train_df[\"y\"])"
   ]
  },
  {
   "cell_type": "code",
   "execution_count": 11,
   "metadata": {},
   "outputs": [
    {
     "data": {
      "text/html": [
       "<div>\n",
       "<style scoped>\n",
       "    .dataframe tbody tr th:only-of-type {\n",
       "        vertical-align: middle;\n",
       "    }\n",
       "\n",
       "    .dataframe tbody tr th {\n",
       "        vertical-align: top;\n",
       "    }\n",
       "\n",
       "    .dataframe thead th {\n",
       "        text-align: right;\n",
       "    }\n",
       "</style>\n",
       "<table border=\"1\" class=\"dataframe\">\n",
       "  <thead>\n",
       "    <tr style=\"text-align: right;\">\n",
       "      <th></th>\n",
       "      <th>sentiment</th>\n",
       "      <th>text</th>\n",
       "      <th>ents</th>\n",
       "      <th>ent_types</th>\n",
       "      <th>format_text</th>\n",
       "    </tr>\n",
       "  </thead>\n",
       "  <tbody>\n",
       "    <tr>\n",
       "      <th>0</th>\n",
       "      <td>neutral</td>\n",
       "      <td>Rapala VMC Corporation Rapala , a leading fish...</td>\n",
       "      <td>[(Rapala VMC Corporation Rapala, ORG), (Pelton...</td>\n",
       "      <td>{PERCENT, ORG, GPE}</td>\n",
       "      <td>ORG , a leading fishing tackle and sporting go...</td>\n",
       "    </tr>\n",
       "    <tr>\n",
       "      <th>1</th>\n",
       "      <td>positive</td>\n",
       "      <td>Shareholders of Rakvere Lihakombinaat decided ...</td>\n",
       "      <td>[(mid-July, DATE)]</td>\n",
       "      <td>{DATE}</td>\n",
       "      <td>Shareholders of Rakvere Lihakombinaat decided ...</td>\n",
       "    </tr>\n",
       "    <tr>\n",
       "      <th>2</th>\n",
       "      <td>neutral</td>\n",
       "      <td>Approximately SEK 166 million in repayments ha...</td>\n",
       "      <td>[(166 million, CARDINAL), (Stockholm, GPE), (8...</td>\n",
       "      <td>{CARDINAL, LOC, GPE}</td>\n",
       "      <td>Approximately SEK CARDINAL in repayments has b...</td>\n",
       "    </tr>\n",
       "    <tr>\n",
       "      <th>3</th>\n",
       "      <td>neutral</td>\n",
       "      <td>The serial bond is part of the plan to refinan...</td>\n",
       "      <td>[]</td>\n",
       "      <td>{}</td>\n",
       "      <td>The serial bond is part of the plan to refinan...</td>\n",
       "    </tr>\n",
       "    <tr>\n",
       "      <th>4</th>\n",
       "      <td>neutral</td>\n",
       "      <td>Results are expected late in 2006 .</td>\n",
       "      <td>[(2006, DATE)]</td>\n",
       "      <td>{DATE}</td>\n",
       "      <td>Results are expected late in DATE .</td>\n",
       "    </tr>\n",
       "    <tr>\n",
       "      <th>...</th>\n",
       "      <td>...</td>\n",
       "      <td>...</td>\n",
       "      <td>...</td>\n",
       "      <td>...</td>\n",
       "      <td>...</td>\n",
       "    </tr>\n",
       "    <tr>\n",
       "      <th>7768</th>\n",
       "      <td>positive</td>\n",
       "      <td>The company 's net profit rose 11.4 % on the y...</td>\n",
       "      <td>[(11.4 %, PERCENT), (the year, DATE), (82.2 mi...</td>\n",
       "      <td>{PERCENT, MONEY, DATE, CARDINAL}</td>\n",
       "      <td>The company 's net profit rose PERCENT on DATE...</td>\n",
       "    </tr>\n",
       "    <tr>\n",
       "      <th>7769</th>\n",
       "      <td>positive</td>\n",
       "      <td>Industry Investment is very interested in Glas...</td>\n",
       "      <td>[(Glaston, GPE)]</td>\n",
       "      <td>{GPE}</td>\n",
       "      <td>Industry Investment is very interested in GPE ...</td>\n",
       "    </tr>\n",
       "    <tr>\n",
       "      <th>7770</th>\n",
       "      <td>positive</td>\n",
       "      <td>Operating profit was EUR 9.8 mn , compared to ...</td>\n",
       "      <td>[(2009, DATE)]</td>\n",
       "      <td>{DATE}</td>\n",
       "      <td>Operating profit was EUR 9.8 mn , compared to ...</td>\n",
       "    </tr>\n",
       "    <tr>\n",
       "      <th>7771</th>\n",
       "      <td>positive</td>\n",
       "      <td>Vaisala Oyj Press Release September 30 , 2010 ...</td>\n",
       "      <td>[(Vaisala Oyj, PERSON), (September 30 , 2010, ...</td>\n",
       "      <td>{PERSON, DATE, GPE}</td>\n",
       "      <td>PERSON Press Release DATE GPE has signed a con...</td>\n",
       "    </tr>\n",
       "    <tr>\n",
       "      <th>7772</th>\n",
       "      <td>positive</td>\n",
       "      <td>Pretax profit jumped to EUR 21.9 million from ...</td>\n",
       "      <td>[(EUR, ORG), (21.9 million, CARDINAL), (EUR, O...</td>\n",
       "      <td>{ORG, CARDINAL}</td>\n",
       "      <td>Pretax profit jumped to ORG CARDINAL from ORG ...</td>\n",
       "    </tr>\n",
       "  </tbody>\n",
       "</table>\n",
       "<p>7773 rows × 5 columns</p>\n",
       "</div>"
      ],
      "text/plain": [
       "     sentiment                                               text  \\\n",
       "0      neutral  Rapala VMC Corporation Rapala , a leading fish...   \n",
       "1     positive  Shareholders of Rakvere Lihakombinaat decided ...   \n",
       "2      neutral  Approximately SEK 166 million in repayments ha...   \n",
       "3      neutral  The serial bond is part of the plan to refinan...   \n",
       "4      neutral                Results are expected late in 2006 .   \n",
       "...        ...                                                ...   \n",
       "7768  positive  The company 's net profit rose 11.4 % on the y...   \n",
       "7769  positive  Industry Investment is very interested in Glas...   \n",
       "7770  positive  Operating profit was EUR 9.8 mn , compared to ...   \n",
       "7771  positive  Vaisala Oyj Press Release September 30 , 2010 ...   \n",
       "7772  positive  Pretax profit jumped to EUR 21.9 million from ...   \n",
       "\n",
       "                                                   ents  \\\n",
       "0     [(Rapala VMC Corporation Rapala, ORG), (Pelton...   \n",
       "1                                    [(mid-July, DATE)]   \n",
       "2     [(166 million, CARDINAL), (Stockholm, GPE), (8...   \n",
       "3                                                    []   \n",
       "4                                        [(2006, DATE)]   \n",
       "...                                                 ...   \n",
       "7768  [(11.4 %, PERCENT), (the year, DATE), (82.2 mi...   \n",
       "7769                                   [(Glaston, GPE)]   \n",
       "7770                                     [(2009, DATE)]   \n",
       "7771  [(Vaisala Oyj, PERSON), (September 30 , 2010, ...   \n",
       "7772  [(EUR, ORG), (21.9 million, CARDINAL), (EUR, O...   \n",
       "\n",
       "                             ent_types  \\\n",
       "0                  {PERCENT, ORG, GPE}   \n",
       "1                               {DATE}   \n",
       "2                 {CARDINAL, LOC, GPE}   \n",
       "3                                   {}   \n",
       "4                               {DATE}   \n",
       "...                                ...   \n",
       "7768  {PERCENT, MONEY, DATE, CARDINAL}   \n",
       "7769                             {GPE}   \n",
       "7770                            {DATE}   \n",
       "7771               {PERSON, DATE, GPE}   \n",
       "7772                   {ORG, CARDINAL}   \n",
       "\n",
       "                                            format_text  \n",
       "0     ORG , a leading fishing tackle and sporting go...  \n",
       "1     Shareholders of Rakvere Lihakombinaat decided ...  \n",
       "2     Approximately SEK CARDINAL in repayments has b...  \n",
       "3     The serial bond is part of the plan to refinan...  \n",
       "4                   Results are expected late in DATE .  \n",
       "...                                                 ...  \n",
       "7768  The company 's net profit rose PERCENT on DATE...  \n",
       "7769  Industry Investment is very interested in GPE ...  \n",
       "7770  Operating profit was EUR 9.8 mn , compared to ...  \n",
       "7771  PERSON Press Release DATE GPE has signed a con...  \n",
       "7772  Pretax profit jumped to ORG CARDINAL from ORG ...  \n",
       "\n",
       "[7773 rows x 5 columns]"
      ]
     },
     "execution_count": 11,
     "metadata": {},
     "output_type": "execute_result"
    }
   ],
   "source": [
    "trainX"
   ]
  },
  {
   "cell_type": "code",
   "execution_count": 13,
   "metadata": {},
   "outputs": [
    {
     "data": {
      "text/plain": [
       "2    2591\n",
       "1    2591\n",
       "0    2591\n",
       "Name: y, dtype: int64"
      ]
     },
     "execution_count": 13,
     "metadata": {},
     "output_type": "execute_result"
    }
   ],
   "source": [
    "trainY.value_counts()"
   ]
  },
  {
   "cell_type": "code",
   "execution_count": 23,
   "metadata": {},
   "outputs": [],
   "source": [
    "tfidf_vectorizer = TfidfVectorizer(max_df=0.99, \n",
    "                                min_df=5,\n",
    "                                lowercase=True,\n",
    "                                stop_words='english')\n",
    "train_tfidf = tfidf_vectorizer.fit_transform(trainX[\"format_text\"].values)"
   ]
  },
  {
   "cell_type": "code",
   "execution_count": 24,
   "metadata": {},
   "outputs": [
    {
     "data": {
      "text/plain": [
       "<7773x2263 sparse matrix of type '<class 'numpy.float64'>'\n",
       "\twith 72577 stored elements in Compressed Sparse Row format>"
      ]
     },
     "execution_count": 24,
     "metadata": {},
     "output_type": "execute_result"
    }
   ],
   "source": [
    "train_tfidf"
   ]
  },
  {
   "cell_type": "code",
   "execution_count": 32,
   "metadata": {},
   "outputs": [
    {
     "name": "stderr",
     "output_type": "stream",
     "text": [
      "/Users/sachinthaka/opt/miniconda3/lib/python3.7/site-packages/sklearn/linear_model/_logistic.py:765: ConvergenceWarning: lbfgs failed to converge (status=1):\n",
      "STOP: TOTAL NO. of ITERATIONS REACHED LIMIT.\n",
      "\n",
      "Increase the number of iterations (max_iter) or scale the data as shown in:\n",
      "    https://scikit-learn.org/stable/modules/preprocessing.html\n",
      "Please also refer to the documentation for alternative solver options:\n",
      "    https://scikit-learn.org/stable/modules/linear_model.html#logistic-regression\n",
      "  extra_warning_msg=_LOGISTIC_SOLVER_CONVERGENCE_MSG)\n"
     ]
    },
    {
     "data": {
      "text/plain": [
       "LogisticRegression(multi_class='multinomial')"
      ]
     },
     "execution_count": 32,
     "metadata": {},
     "output_type": "execute_result"
    }
   ],
   "source": [
    "from sklearn.linear_model import LogisticRegression\n",
    "from sklearn.metrics import accuracy_score\n",
    "\n",
    "model = LogisticRegression(multi_class=\"multinomial\")\n",
    "model.fit(train_tfidf, trainY)"
   ]
  },
  {
   "cell_type": "code",
   "execution_count": 33,
   "metadata": {},
   "outputs": [
    {
     "data": {
      "text/plain": [
       "0.7443298969072165"
      ]
     },
     "execution_count": 33,
     "metadata": {},
     "output_type": "execute_result"
    }
   ],
   "source": [
    "test_tfidf = tfidf_vectorizer.transform(test_df[\"format_text\"])\n",
    "test_preds = model.predict(test_tfidf)\n",
    "accuracy_score(test_df[\"y\"], test_preds)"
   ]
  },
  {
   "cell_type": "code",
   "execution_count": null,
   "metadata": {},
   "outputs": [],
   "source": []
  }
 ],
 "metadata": {
  "kernelspec": {
   "display_name": "Python 3.7.6 64-bit ('base': conda)",
   "language": "python",
   "name": "python37664bitbaseconda80fe5c60686e44919b5f649c574df925"
  },
  "language_info": {
   "codemirror_mode": {
    "name": "ipython",
    "version": 3
   },
   "file_extension": ".py",
   "mimetype": "text/x-python",
   "name": "python",
   "nbconvert_exporter": "python",
   "pygments_lexer": "ipython3",
   "version": "3.7.9"
  }
 },
 "nbformat": 4,
 "nbformat_minor": 4
}
