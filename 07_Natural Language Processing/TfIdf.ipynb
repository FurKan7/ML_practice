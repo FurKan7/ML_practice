{
 "cells": [
  {
   "cell_type": "markdown",
   "metadata": {},
   "source": [
    "# Term Frequency - Inverse Document Frequency"
   ]
  },
  {
   "cell_type": "code",
   "execution_count": 18,
   "metadata": {},
   "outputs": [],
   "source": [
    "import pandas as pd\n",
    "\n",
    "from sklearn.linear_model import LogisticRegression\n",
    "from sklearn.preprocessing import LabelEncoder\n",
    "from sklearn.feature_extraction.text import TfidfVectorizer, CountVectorizer\n",
    "from sklearn.model_selection import train_test_split\n",
    "from sklearn.metrics import accuracy_score\n",
    "\n",
    "from nltk.stem import PorterStemmer \n",
    "from nltk.tokenize import word_tokenize"
   ]
  },
  {
   "cell_type": "code",
   "execution_count": 11,
   "metadata": {},
   "outputs": [],
   "source": [
    "df = pd.read_csv(\"/tmp/all-data.csv\", \n",
    "                 encoding='cp437', \n",
    "                 header=None, \n",
    "                 names=[\"sentiment\", \"text\"])\n",
    "le = LabelEncoder()\n",
    "df[\"y\"] = le.fit_transform(df[\"sentiment\"])\n",
    "\n",
    "ps = PorterStemmer() \n",
    "def stem_sentence(text):\n",
    "    return \" \".join([ps.stem(word) for word in word_tokenize(text)])\n",
    "\n",
    "df[\"processed_text\"] = df[\"text\"].map(stem_sentence)\n",
    "\n",
    "train_df, test_df = train_test_split(df, stratify=df[\"y\"], test_size=0.1)"
   ]
  },
  {
   "cell_type": "code",
   "execution_count": 23,
   "metadata": {},
   "outputs": [],
   "source": [
    "tfidf_vectorizer = TfidfVectorizer(\n",
    "                                    min_df=5,\n",
    "                                    lowercase=True,\n",
    "                                    stop_words='english')\n",
    "train_tfidf = tfidf_vectorizer.fit_transform(train_df[\"processed_text\"].values)"
   ]
  },
  {
   "cell_type": "code",
   "execution_count": 24,
   "metadata": {},
   "outputs": [
    {
     "data": {
      "text/plain": [
       "0.7587628865979381"
      ]
     },
     "execution_count": 24,
     "metadata": {},
     "output_type": "execute_result"
    }
   ],
   "source": [
    "model = LogisticRegression(multi_class=\"multinomial\", max_iter=500)\n",
    "model.fit(train_tfidf, train_df[\"y\"])\n",
    "\n",
    "test_tfidf = tfidf_vectorizer.transform(test_df[\"processed_text\"])\n",
    "test_preds = model.predict(test_tfidf)\n",
    "accuracy_score(test_df[\"y\"], test_preds)"
   ]
  },
  {
   "cell_type": "code",
   "execution_count": null,
   "metadata": {},
   "outputs": [],
   "source": []
  }
 ],
 "metadata": {
  "kernelspec": {
   "display_name": "Python 3.7.6 64-bit ('base': conda)",
   "language": "python",
   "name": "python37664bitbaseconda80fe5c60686e44919b5f649c574df925"
  },
  "language_info": {
   "codemirror_mode": {
    "name": "ipython",
    "version": 3
   },
   "file_extension": ".py",
   "mimetype": "text/x-python",
   "name": "python",
   "nbconvert_exporter": "python",
   "pygments_lexer": "ipython3",
   "version": "3.7.9"
  }
 },
 "nbformat": 4,
 "nbformat_minor": 4
}
