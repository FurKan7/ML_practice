{
 "cells": [
  {
   "cell_type": "markdown",
   "metadata": {},
   "source": [
    "For this section we will look at simple ways of processing text to do classification. The news 20 dataset is usually how most courses will get into this, but we will look into a kaggle dataset in financial sentiment analysis instead. Please download the dataset from [here](https://www.kaggle.com/ankurzing/sentiment-analysis-for-financial-news). Place the dataset somewhere and change the first line in cell 2 accordingly.\n",
    "\n",
    "However, I do suggest that you have a browse through the analysis done on news20 dataset as shown in [sklearn docs](https://scikit-learn.org/0.19/auto_examples/applications/plot_topics_extraction_with_nmf_lda.html#sphx-glr-auto-examples-applications-plot-topics-extraction-with-nmf-lda-py)."
   ]
  },
  {
   "cell_type": "code",
   "execution_count": 3,
   "metadata": {},
   "outputs": [],
   "source": [
    "import pandas as pd\n",
    "from sklearn.preprocessing import LabelEncoder"
   ]
  },
  {
   "cell_type": "markdown",
   "metadata": {},
   "source": [
    "Note that this `cp437` encoding is rare, and do not worry about it. If you ever do require some encoding to read in data it will most likely be \"utf-8\" or similar.\n",
    "\n",
    "Also note how I haven't done the label encoder transformation _after_ the train test split. This is probably one of the few functions where it doesn't matter, as we are only converting labels to numbers, and in this case at least, won't cause any data leakage."
   ]
  },
  {
   "cell_type": "code",
   "execution_count": 4,
   "metadata": {},
   "outputs": [
    {
     "data": {
      "text/html": [
       "<div>\n",
       "<style scoped>\n",
       "    .dataframe tbody tr th:only-of-type {\n",
       "        vertical-align: middle;\n",
       "    }\n",
       "\n",
       "    .dataframe tbody tr th {\n",
       "        vertical-align: top;\n",
       "    }\n",
       "\n",
       "    .dataframe thead th {\n",
       "        text-align: right;\n",
       "    }\n",
       "</style>\n",
       "<table border=\"1\" class=\"dataframe\">\n",
       "  <thead>\n",
       "    <tr style=\"text-align: right;\">\n",
       "      <th></th>\n",
       "      <th>sentiment</th>\n",
       "      <th>text</th>\n",
       "      <th>y</th>\n",
       "    </tr>\n",
       "  </thead>\n",
       "  <tbody>\n",
       "    <tr>\n",
       "      <th>0</th>\n",
       "      <td>neutral</td>\n",
       "      <td>According to Gran , the company has no plans t...</td>\n",
       "      <td>1</td>\n",
       "    </tr>\n",
       "    <tr>\n",
       "      <th>1</th>\n",
       "      <td>neutral</td>\n",
       "      <td>Technopolis plans to develop in stages an area...</td>\n",
       "      <td>1</td>\n",
       "    </tr>\n",
       "    <tr>\n",
       "      <th>2</th>\n",
       "      <td>negative</td>\n",
       "      <td>The international electronic industry company ...</td>\n",
       "      <td>0</td>\n",
       "    </tr>\n",
       "    <tr>\n",
       "      <th>3</th>\n",
       "      <td>positive</td>\n",
       "      <td>With the new production plant the company woul...</td>\n",
       "      <td>2</td>\n",
       "    </tr>\n",
       "    <tr>\n",
       "      <th>4</th>\n",
       "      <td>positive</td>\n",
       "      <td>According to the company 's updated strategy f...</td>\n",
       "      <td>2</td>\n",
       "    </tr>\n",
       "    <tr>\n",
       "      <th>...</th>\n",
       "      <td>...</td>\n",
       "      <td>...</td>\n",
       "      <td>...</td>\n",
       "    </tr>\n",
       "    <tr>\n",
       "      <th>4841</th>\n",
       "      <td>negative</td>\n",
       "      <td>LONDON MarketWatch -- Share prices ended lower...</td>\n",
       "      <td>0</td>\n",
       "    </tr>\n",
       "    <tr>\n",
       "      <th>4842</th>\n",
       "      <td>neutral</td>\n",
       "      <td>Rinkuskiai 's beer sales fell by 6.5 per cent ...</td>\n",
       "      <td>1</td>\n",
       "    </tr>\n",
       "    <tr>\n",
       "      <th>4843</th>\n",
       "      <td>negative</td>\n",
       "      <td>Operating profit fell to EUR 35.4 mn from EUR ...</td>\n",
       "      <td>0</td>\n",
       "    </tr>\n",
       "    <tr>\n",
       "      <th>4844</th>\n",
       "      <td>negative</td>\n",
       "      <td>Net sales of the Paper segment decreased to EU...</td>\n",
       "      <td>0</td>\n",
       "    </tr>\n",
       "    <tr>\n",
       "      <th>4845</th>\n",
       "      <td>negative</td>\n",
       "      <td>Sales in Finland decreased by 10.5 % in Januar...</td>\n",
       "      <td>0</td>\n",
       "    </tr>\n",
       "  </tbody>\n",
       "</table>\n",
       "<p>4846 rows × 3 columns</p>\n",
       "</div>"
      ],
      "text/plain": [
       "     sentiment                                               text  y\n",
       "0      neutral  According to Gran , the company has no plans t...  1\n",
       "1      neutral  Technopolis plans to develop in stages an area...  1\n",
       "2     negative  The international electronic industry company ...  0\n",
       "3     positive  With the new production plant the company woul...  2\n",
       "4     positive  According to the company 's updated strategy f...  2\n",
       "...        ...                                                ... ..\n",
       "4841  negative  LONDON MarketWatch -- Share prices ended lower...  0\n",
       "4842   neutral  Rinkuskiai 's beer sales fell by 6.5 per cent ...  1\n",
       "4843  negative  Operating profit fell to EUR 35.4 mn from EUR ...  0\n",
       "4844  negative  Net sales of the Paper segment decreased to EU...  0\n",
       "4845  negative  Sales in Finland decreased by 10.5 % in Januar...  0\n",
       "\n",
       "[4846 rows x 3 columns]"
      ]
     },
     "execution_count": 4,
     "metadata": {},
     "output_type": "execute_result"
    }
   ],
   "source": [
    "df = pd.read_csv(\"/tmp/all-data.csv\", \n",
    "                 encoding='cp437', \n",
    "                 header=None, \n",
    "                 names=[\"sentiment\", \"text\"])\n",
    "le = LabelEncoder()\n",
    "df[\"y\"] = le.fit_transform(df[\"sentiment\"])\n",
    "df"
   ]
  },
  {
   "cell_type": "code",
   "execution_count": 9,
   "metadata": {},
   "outputs": [
    {
     "name": "stdout",
     "output_type": "stream",
     "text": [
      "According to Gran , the company has no plans to move all production to Russia , although that is where the company is growing .\n",
      "Gran PERSON\n",
      "Russia GPE\n"
     ]
    }
   ],
   "source": [
    "import spacy\n",
    "\n",
    "nlp = spacy.load(\"en_core_web_sm\")\n",
    "\n",
    "doc = nlp(df[\"text\"].values[0])\n",
    "print(doc)\n",
    "\n",
    "for entity in doc.ents:\n",
    "    print(entity.text, entity.label_)"
   ]
  },
  {
   "cell_type": "code",
   "execution_count": 11,
   "metadata": {},
   "outputs": [
    {
     "data": {
      "text/plain": [
       "[Gran, Russia]"
      ]
     },
     "execution_count": 11,
     "metadata": {},
     "output_type": "execute_result"
    }
   ],
   "source": [
    "doc.ents"
   ]
  },
  {
   "cell_type": "code",
   "execution_count": 15,
   "metadata": {},
   "outputs": [
    {
     "name": "stderr",
     "output_type": "stream",
     "text": [
      "/Users/sachinthaka/opt/miniconda3/lib/python3.7/site-packages/tqdm/std.py:658: FutureWarning: The Panel class is removed from pandas. Accessing it from the top-level namespace will also be removed in the next version\n",
      "  from pandas import Panel\n"
     ]
    },
    {
     "data": {
      "application/vnd.jupyter.widget-view+json": {
       "model_id": "8777a423d5654f079d351cc4ef3c8fa5",
       "version_major": 2,
       "version_minor": 0
      },
      "text/plain": [
       "HBox(children=(FloatProgress(value=0.0, max=4846.0), HTML(value='')))"
      ]
     },
     "metadata": {},
     "output_type": "display_data"
    },
    {
     "name": "stdout",
     "output_type": "stream",
     "text": [
      "\n"
     ]
    }
   ],
   "source": [
    "from tqdm.auto import tqdm\n",
    "tqdm.pandas()\n",
    "\n",
    "df[\"ents\"] = df[\"text\"].progress_map(lambda text: [(entity.text, entity.label_) \n",
    "                                          for entity in nlp(text).ents])"
   ]
  },
  {
   "cell_type": "code",
   "execution_count": 17,
   "metadata": {},
   "outputs": [
    {
     "data": {
      "text/html": [
       "<div>\n",
       "<style scoped>\n",
       "    .dataframe tbody tr th:only-of-type {\n",
       "        vertical-align: middle;\n",
       "    }\n",
       "\n",
       "    .dataframe tbody tr th {\n",
       "        vertical-align: top;\n",
       "    }\n",
       "\n",
       "    .dataframe thead th {\n",
       "        text-align: right;\n",
       "    }\n",
       "</style>\n",
       "<table border=\"1\" class=\"dataframe\">\n",
       "  <thead>\n",
       "    <tr style=\"text-align: right;\">\n",
       "      <th></th>\n",
       "      <th>sentiment</th>\n",
       "      <th>text</th>\n",
       "      <th>y</th>\n",
       "      <th>ents</th>\n",
       "    </tr>\n",
       "  </thead>\n",
       "  <tbody>\n",
       "    <tr>\n",
       "      <th>2961</th>\n",
       "      <td>neutral</td>\n",
       "      <td>In the sinter plant , limestone and coke breez...</td>\n",
       "      <td>1</td>\n",
       "      <td>[]</td>\n",
       "    </tr>\n",
       "    <tr>\n",
       "      <th>376</th>\n",
       "      <td>positive</td>\n",
       "      <td>The disposal of Autotank will also strengthen ...</td>\n",
       "      <td>2</td>\n",
       "      <td>[(Autotank, ORG), (Aspo, ORG), (Gustav Nyberg,...</td>\n",
       "    </tr>\n",
       "    <tr>\n",
       "      <th>2800</th>\n",
       "      <td>neutral</td>\n",
       "      <td>An acquisition of TeliaSonera would be France ...</td>\n",
       "      <td>1</td>\n",
       "      <td>[(TeliaSonera, ORG), (France Telecom 's, ORG),...</td>\n",
       "    </tr>\n",
       "    <tr>\n",
       "      <th>1498</th>\n",
       "      <td>neutral</td>\n",
       "      <td>And when it has lifted the veil on the various...</td>\n",
       "      <td>1</td>\n",
       "      <td>[]</td>\n",
       "    </tr>\n",
       "    <tr>\n",
       "      <th>522</th>\n",
       "      <td>neutral</td>\n",
       "      <td>The order consists of capacity expansion , mai...</td>\n",
       "      <td>1</td>\n",
       "      <td>[]</td>\n",
       "    </tr>\n",
       "  </tbody>\n",
       "</table>\n",
       "</div>"
      ],
      "text/plain": [
       "     sentiment                                               text  y  \\\n",
       "2961   neutral  In the sinter plant , limestone and coke breez...  1   \n",
       "376   positive  The disposal of Autotank will also strengthen ...  2   \n",
       "2800   neutral  An acquisition of TeliaSonera would be France ...  1   \n",
       "1498   neutral  And when it has lifted the veil on the various...  1   \n",
       "522    neutral  The order consists of capacity expansion , mai...  1   \n",
       "\n",
       "                                                   ents  \n",
       "2961                                                 []  \n",
       "376   [(Autotank, ORG), (Aspo, ORG), (Gustav Nyberg,...  \n",
       "2800  [(TeliaSonera, ORG), (France Telecom 's, ORG),...  \n",
       "1498                                                 []  \n",
       "522                                                  []  "
      ]
     },
     "execution_count": 17,
     "metadata": {},
     "output_type": "execute_result"
    }
   ],
   "source": [
    "df.sample(5)"
   ]
  },
  {
   "cell_type": "code",
   "execution_count": 18,
   "metadata": {},
   "outputs": [
    {
     "data": {
      "application/vnd.jupyter.widget-view+json": {
       "model_id": "25e89f12647a4ea6b2deb2a73ef26fea",
       "version_major": 2,
       "version_minor": 0
      },
      "text/plain": [
       "HBox(children=(FloatProgress(value=0.0, max=4846.0), HTML(value='')))"
      ]
     },
     "metadata": {},
     "output_type": "display_data"
    },
    {
     "name": "stdout",
     "output_type": "stream",
     "text": [
      "\n"
     ]
    }
   ],
   "source": [
    "df[\"ent_types\"] = df[\"ents\"].progress_map(lambda x: set(ent[1] for ent in x))"
   ]
  },
  {
   "cell_type": "markdown",
   "metadata": {},
   "source": [
    "The types of entities and their definitions can be seen [here](https://spacy.io/api/annotation#named-entities)."
   ]
  },
  {
   "cell_type": "code",
   "execution_count": 19,
   "metadata": {},
   "outputs": [
    {
     "data": {
      "text/html": [
       "<div>\n",
       "<style scoped>\n",
       "    .dataframe tbody tr th:only-of-type {\n",
       "        vertical-align: middle;\n",
       "    }\n",
       "\n",
       "    .dataframe tbody tr th {\n",
       "        vertical-align: top;\n",
       "    }\n",
       "\n",
       "    .dataframe thead th {\n",
       "        text-align: right;\n",
       "    }\n",
       "</style>\n",
       "<table border=\"1\" class=\"dataframe\">\n",
       "  <thead>\n",
       "    <tr style=\"text-align: right;\">\n",
       "      <th></th>\n",
       "      <th>sentiment</th>\n",
       "      <th>text</th>\n",
       "      <th>y</th>\n",
       "      <th>ents</th>\n",
       "      <th>ent_types</th>\n",
       "    </tr>\n",
       "  </thead>\n",
       "  <tbody>\n",
       "    <tr>\n",
       "      <th>201</th>\n",
       "      <td>positive</td>\n",
       "      <td>Finnish software developer Done Solutions Oyj ...</td>\n",
       "      <td>2</td>\n",
       "      <td>[(Finnish, NORP), (Done Solutions Oyj, ORG), (...</td>\n",
       "      <td>{NORP, ORG, MONEY, DATE}</td>\n",
       "    </tr>\n",
       "    <tr>\n",
       "      <th>1025</th>\n",
       "      <td>neutral</td>\n",
       "      <td>An additional amount , capped at EUR12m , is p...</td>\n",
       "      <td>1</td>\n",
       "      <td>[(2007, DATE)]</td>\n",
       "      <td>{DATE}</td>\n",
       "    </tr>\n",
       "    <tr>\n",
       "      <th>1593</th>\n",
       "      <td>neutral</td>\n",
       "      <td>s already good position in the technical build...</td>\n",
       "      <td>1</td>\n",
       "      <td>[(s, ORG), (Ostrobothnia, GPE)]</td>\n",
       "      <td>{ORG, GPE}</td>\n",
       "    </tr>\n",
       "    <tr>\n",
       "      <th>4274</th>\n",
       "      <td>neutral</td>\n",
       "      <td>The resignation will be in effect immediately .</td>\n",
       "      <td>1</td>\n",
       "      <td>[]</td>\n",
       "      <td>{}</td>\n",
       "    </tr>\n",
       "    <tr>\n",
       "      <th>2688</th>\n",
       "      <td>neutral</td>\n",
       "      <td>There are currently some ten shops selling Tik...</td>\n",
       "      <td>1</td>\n",
       "      <td>[(ten, CARDINAL), (Tikkurila, ORG), (Kazakhsta...</td>\n",
       "      <td>{CARDINAL, ORG, GPE}</td>\n",
       "    </tr>\n",
       "  </tbody>\n",
       "</table>\n",
       "</div>"
      ],
      "text/plain": [
       "     sentiment                                               text  y  \\\n",
       "201   positive  Finnish software developer Done Solutions Oyj ...  2   \n",
       "1025   neutral  An additional amount , capped at EUR12m , is p...  1   \n",
       "1593   neutral  s already good position in the technical build...  1   \n",
       "4274   neutral    The resignation will be in effect immediately .  1   \n",
       "2688   neutral  There are currently some ten shops selling Tik...  1   \n",
       "\n",
       "                                                   ents  \\\n",
       "201   [(Finnish, NORP), (Done Solutions Oyj, ORG), (...   \n",
       "1025                                     [(2007, DATE)]   \n",
       "1593                    [(s, ORG), (Ostrobothnia, GPE)]   \n",
       "4274                                                 []   \n",
       "2688  [(ten, CARDINAL), (Tikkurila, ORG), (Kazakhsta...   \n",
       "\n",
       "                     ent_types  \n",
       "201   {NORP, ORG, MONEY, DATE}  \n",
       "1025                    {DATE}  \n",
       "1593                {ORG, GPE}  \n",
       "4274                        {}  \n",
       "2688      {CARDINAL, ORG, GPE}  "
      ]
     },
     "execution_count": 19,
     "metadata": {},
     "output_type": "execute_result"
    }
   ],
   "source": [
    "df.sample(5)"
   ]
  },
  {
   "cell_type": "code",
   "execution_count": 22,
   "metadata": {},
   "outputs": [
    {
     "data": {
      "text/plain": [
       "'s already good position in the technical building services M in Ostrobothnia .'"
      ]
     },
     "execution_count": 22,
     "metadata": {},
     "output_type": "execute_result"
    }
   ],
   "source": [
    "df.loc[1593, \"text\"].replace(\"market\", \"M\")"
   ]
  },
  {
   "cell_type": "code",
   "execution_count": 23,
   "metadata": {},
   "outputs": [
    {
     "data": {
      "application/vnd.jupyter.widget-view+json": {
       "model_id": "eb645ffc8e344b05ace5076de35f5856",
       "version_major": 2,
       "version_minor": 0
      },
      "text/plain": [
       "HBox(children=(FloatProgress(value=0.0, max=4846.0), HTML(value='')))"
      ]
     },
     "metadata": {},
     "output_type": "display_data"
    },
    {
     "name": "stdout",
     "output_type": "stream",
     "text": [
      "\n"
     ]
    }
   ],
   "source": [
    "def replace_text(text, entities):\n",
    "    for ent, ent_type in entities:\n",
    "        text = text.replace(ent, ent_type)\n",
    "        \n",
    "    return text\n",
    "\n",
    "df[\"format_text\"] = df.progress_apply(lambda x: replace_text(x[\"text\"], x[\"ents\"]), axis=1)"
   ]
  },
  {
   "cell_type": "code",
   "execution_count": 24,
   "metadata": {},
   "outputs": [
    {
     "data": {
      "text/html": [
       "<div>\n",
       "<style scoped>\n",
       "    .dataframe tbody tr th:only-of-type {\n",
       "        vertical-align: middle;\n",
       "    }\n",
       "\n",
       "    .dataframe tbody tr th {\n",
       "        vertical-align: top;\n",
       "    }\n",
       "\n",
       "    .dataframe thead th {\n",
       "        text-align: right;\n",
       "    }\n",
       "</style>\n",
       "<table border=\"1\" class=\"dataframe\">\n",
       "  <thead>\n",
       "    <tr style=\"text-align: right;\">\n",
       "      <th></th>\n",
       "      <th>sentiment</th>\n",
       "      <th>text</th>\n",
       "      <th>y</th>\n",
       "      <th>ents</th>\n",
       "      <th>ent_types</th>\n",
       "      <th>format_text</th>\n",
       "    </tr>\n",
       "  </thead>\n",
       "  <tbody>\n",
       "    <tr>\n",
       "      <th>2107</th>\n",
       "      <td>positive</td>\n",
       "      <td>Finnish-owned contract manufacturer of electro...</td>\n",
       "      <td>2</td>\n",
       "      <td>[(Finnish, NORP), (Elcoteq Hungary Kft, PERSON...</td>\n",
       "      <td>{PERSON, NORP, CARDINAL}</td>\n",
       "      <td>NORP-owned contract manufacturer of electronic...</td>\n",
       "    </tr>\n",
       "    <tr>\n",
       "      <th>2292</th>\n",
       "      <td>positive</td>\n",
       "      <td>Operating profit totaled EUR 17.7 mn compared ...</td>\n",
       "      <td>2</td>\n",
       "      <td>[(EUR, ORG), (17.7 mn, QUANTITY), (EUR, ORG), ...</td>\n",
       "      <td>{MONEY, ORG, QUANTITY, DATE}</td>\n",
       "      <td>Operating profit totaled ORG QUANTITY compared...</td>\n",
       "    </tr>\n",
       "    <tr>\n",
       "      <th>4171</th>\n",
       "      <td>neutral</td>\n",
       "      <td>Another problem is cola-flavoured long drinks .</td>\n",
       "      <td>1</td>\n",
       "      <td>[]</td>\n",
       "      <td>{}</td>\n",
       "      <td>Another problem is cola-flavoured long drinks .</td>\n",
       "    </tr>\n",
       "    <tr>\n",
       "      <th>1163</th>\n",
       "      <td>neutral</td>\n",
       "      <td>Aldata to Share Space Optimization Vision at A...</td>\n",
       "      <td>1</td>\n",
       "      <td>[(Apollo User Group, ORG), (2009, DATE)]</td>\n",
       "      <td>{ORG, DATE}</td>\n",
       "      <td>Aldata to Share Space Optimization Vision at O...</td>\n",
       "    </tr>\n",
       "    <tr>\n",
       "      <th>1968</th>\n",
       "      <td>neutral</td>\n",
       "      <td>It started with software that was capable of r...</td>\n",
       "      <td>1</td>\n",
       "      <td>[]</td>\n",
       "      <td>{}</td>\n",
       "      <td>It started with software that was capable of r...</td>\n",
       "    </tr>\n",
       "  </tbody>\n",
       "</table>\n",
       "</div>"
      ],
      "text/plain": [
       "     sentiment                                               text  y  \\\n",
       "2107  positive  Finnish-owned contract manufacturer of electro...  2   \n",
       "2292  positive  Operating profit totaled EUR 17.7 mn compared ...  2   \n",
       "4171   neutral    Another problem is cola-flavoured long drinks .  1   \n",
       "1163   neutral  Aldata to Share Space Optimization Vision at A...  1   \n",
       "1968   neutral  It started with software that was capable of r...  1   \n",
       "\n",
       "                                                   ents  \\\n",
       "2107  [(Finnish, NORP), (Elcoteq Hungary Kft, PERSON...   \n",
       "2292  [(EUR, ORG), (17.7 mn, QUANTITY), (EUR, ORG), ...   \n",
       "4171                                                 []   \n",
       "1163           [(Apollo User Group, ORG), (2009, DATE)]   \n",
       "1968                                                 []   \n",
       "\n",
       "                         ent_types  \\\n",
       "2107      {PERSON, NORP, CARDINAL}   \n",
       "2292  {MONEY, ORG, QUANTITY, DATE}   \n",
       "4171                            {}   \n",
       "1163                   {ORG, DATE}   \n",
       "1968                            {}   \n",
       "\n",
       "                                            format_text  \n",
       "2107  NORP-owned contract manufacturer of electronic...  \n",
       "2292  Operating profit totaled ORG QUANTITY compared...  \n",
       "4171    Another problem is cola-flavoured long drinks .  \n",
       "1163  Aldata to Share Space Optimization Vision at O...  \n",
       "1968  It started with software that was capable of r...  "
      ]
     },
     "execution_count": 24,
     "metadata": {},
     "output_type": "execute_result"
    }
   ],
   "source": [
    "df.sample(5)"
   ]
  },
  {
   "cell_type": "code",
   "execution_count": 25,
   "metadata": {},
   "outputs": [],
   "source": [
    "from sklearn.feature_extraction.text import TfidfVectorizer, CountVectorizer\n",
    "from sklearn.model_selection import train_test_split"
   ]
  },
  {
   "cell_type": "code",
   "execution_count": 26,
   "metadata": {},
   "outputs": [],
   "source": [
    "train_df, test_df = train_test_split(df, stratify=df[\"y\"], test_size=0.1)"
   ]
  },
  {
   "cell_type": "code",
   "execution_count": 27,
   "metadata": {},
   "outputs": [],
   "source": [
    "tfidf_vectorizer = TfidfVectorizer(max_df=0.99, \n",
    "                                min_df=5,\n",
    "                                lowercase=True,\n",
    "                                stop_words='english')\n",
    "train_tfidf = tfidf_vectorizer.fit_transform(train_df[\"format_text\"].values)"
   ]
  },
  {
   "cell_type": "code",
   "execution_count": 28,
   "metadata": {},
   "outputs": [
    {
     "data": {
      "text/plain": [
       "<4361x1451 sparse matrix of type '<class 'numpy.float64'>'\n",
       "\twith 36070 stored elements in Compressed Sparse Row format>"
      ]
     },
     "execution_count": 28,
     "metadata": {},
     "output_type": "execute_result"
    }
   ],
   "source": [
    "train_tfidf"
   ]
  },
  {
   "cell_type": "code",
   "execution_count": 29,
   "metadata": {},
   "outputs": [
    {
     "data": {
      "text/plain": [
       "LogisticRegression(C=1.0, class_weight=None, dual=False, fit_intercept=True,\n",
       "                   intercept_scaling=1, l1_ratio=None, max_iter=100,\n",
       "                   multi_class='multinomial', n_jobs=None, penalty='l2',\n",
       "                   random_state=None, solver='lbfgs', tol=0.0001, verbose=0,\n",
       "                   warm_start=False)"
      ]
     },
     "execution_count": 29,
     "metadata": {},
     "output_type": "execute_result"
    }
   ],
   "source": [
    "from sklearn.linear_model import LogisticRegression\n",
    "from sklearn.metrics import accuracy_score\n",
    "\n",
    "model = LogisticRegression(multi_class=\"multinomial\")\n",
    "model.fit(train_tfidf, train_df[\"y\"])"
   ]
  },
  {
   "cell_type": "code",
   "execution_count": 30,
   "metadata": {},
   "outputs": [
    {
     "data": {
      "text/plain": [
       "0.7463917525773196"
      ]
     },
     "execution_count": 30,
     "metadata": {},
     "output_type": "execute_result"
    }
   ],
   "source": [
    "test_tfidf = tfidf_vectorizer.transform(test_df[\"format_text\"])\n",
    "test_preds = model.predict(test_tfidf)\n",
    "accuracy_score(test_df[\"y\"], test_preds)"
   ]
  },
  {
   "cell_type": "code",
   "execution_count": 32,
   "metadata": {},
   "outputs": [
    {
     "data": {
      "application/vnd.jupyter.widget-view+json": {
       "model_id": "2f4da3a280b34218a59b9442f5e5e363",
       "version_major": 2,
       "version_minor": 0
      },
      "text/plain": [
       "HBox(children=(FloatProgress(value=0.0, max=4361.0), HTML(value='')))"
      ]
     },
     "metadata": {},
     "output_type": "display_data"
    },
    {
     "name": "stdout",
     "output_type": "stream",
     "text": [
      "\n"
     ]
    },
    {
     "name": "stderr",
     "output_type": "stream",
     "text": [
      "/Users/sachinthaka/opt/miniconda3/lib/python3.7/site-packages/ipykernel_launcher.py:8: SettingWithCopyWarning: \n",
      "A value is trying to be set on a copy of a slice from a DataFrame.\n",
      "Try using .loc[row_indexer,col_indexer] = value instead\n",
      "\n",
      "See the caveats in the documentation: https://pandas.pydata.org/pandas-docs/stable/user_guide/indexing.html#returning-a-view-versus-a-copy\n",
      "  \n",
      "/Users/sachinthaka/opt/miniconda3/lib/python3.7/site-packages/ipykernel_launcher.py:9: SettingWithCopyWarning: \n",
      "A value is trying to be set on a copy of a slice from a DataFrame.\n",
      "Try using .loc[row_indexer,col_indexer] = value instead\n",
      "\n",
      "See the caveats in the documentation: https://pandas.pydata.org/pandas-docs/stable/user_guide/indexing.html#returning-a-view-versus-a-copy\n",
      "  if __name__ == '__main__':\n"
     ]
    }
   ],
   "source": [
    "from nltk.stem import PorterStemmer \n",
    "from nltk.tokenize import word_tokenize\n",
    "\n",
    "ps = PorterStemmer() \n",
    "def stem_sentence(text):\n",
    "    return \" \".join([ps.stem(word) for word in word_tokenize(text)])\n",
    "\n",
    "train_df[\"processed_text\"] = train_df[\"format_text\"].progress_map(stem_sentence)\n",
    "test_df[\"processed_text\"] = test_df[\"format_text\"].map(stem_sentence)"
   ]
  },
  {
   "cell_type": "code",
   "execution_count": 33,
   "metadata": {},
   "outputs": [],
   "source": [
    "tfidf_vectorizer = TfidfVectorizer(max_df=0.99, \n",
    "                                min_df=5,\n",
    "                                lowercase=True,\n",
    "                                stop_words='english')\n",
    "train_tfidf = tfidf_vectorizer.fit_transform(train_df[\"processed_text\"].values)"
   ]
  },
  {
   "cell_type": "code",
   "execution_count": 35,
   "metadata": {},
   "outputs": [
    {
     "data": {
      "text/plain": [
       "0.7649484536082474"
      ]
     },
     "execution_count": 35,
     "metadata": {},
     "output_type": "execute_result"
    }
   ],
   "source": [
    "model = LogisticRegression(multi_class=\"multinomial\")\n",
    "model.fit(train_tfidf, train_df[\"y\"])\n",
    "\n",
    "test_tfidf = tfidf_vectorizer.transform(test_df[\"processed_text\"])\n",
    "test_preds = model.predict(test_tfidf)\n",
    "accuracy_score(test_df[\"y\"], test_preds)"
   ]
  },
  {
   "cell_type": "code",
   "execution_count": 36,
   "metadata": {},
   "outputs": [
    {
     "data": {
      "text/plain": [
       "<4361x1223 sparse matrix of type '<class 'numpy.float64'>'\n",
       "\twith 39328 stored elements in Compressed Sparse Row format>"
      ]
     },
     "execution_count": 36,
     "metadata": {},
     "output_type": "execute_result"
    }
   ],
   "source": [
    "train_tfidf"
   ]
  },
  {
   "cell_type": "markdown",
   "metadata": {},
   "source": [
    "## Ngrams"
   ]
  },
  {
   "cell_type": "code",
   "execution_count": 38,
   "metadata": {},
   "outputs": [
    {
     "data": {
      "text/plain": [
       "(4361, 2283)"
      ]
     },
     "execution_count": 38,
     "metadata": {},
     "output_type": "execute_result"
    }
   ],
   "source": [
    "tfidf_vectorizer = TfidfVectorizer(max_df=0.99, \n",
    "                                   min_df=5,\n",
    "                                   lowercase=True,\n",
    "                                   stop_words='english',\n",
    "                                   ngram_range=(1, 2) \n",
    "                                  )\n",
    "train_tfidf = tfidf_vectorizer.fit_transform(train_df[\"processed_text\"].values)\n",
    "\n",
    "train_tfidf.shape"
   ]
  },
  {
   "cell_type": "code",
   "execution_count": 39,
   "metadata": {},
   "outputs": [
    {
     "data": {
      "text/plain": [
       "0.7546391752577319"
      ]
     },
     "execution_count": 39,
     "metadata": {},
     "output_type": "execute_result"
    }
   ],
   "source": [
    "model = LogisticRegression(multi_class=\"multinomial\")\n",
    "model.fit(train_tfidf, train_df[\"y\"])\n",
    "\n",
    "test_tfidf = tfidf_vectorizer.transform(test_df[\"processed_text\"])\n",
    "test_preds = model.predict(test_tfidf)\n",
    "accuracy_score(test_df[\"y\"], test_preds)"
   ]
  },
  {
   "cell_type": "code",
   "execution_count": 41,
   "metadata": {},
   "outputs": [
    {
     "name": "stdout",
     "output_type": "stream",
     "text": [
      "['negative']\n",
      "['decreas', 'fell', 'drop', 'lower', 'declin', 'loss', 'lay', 'staff', 'mn', 'cut']\n",
      "==========\n",
      "['neutral']\n",
      "['includ', 'disclos', 'stake', 'valu', 'rang', 'cardin oper', 'ha cardin', 'busi', 'approxim', 'publish']\n",
      "==========\n",
      "['positive']\n",
      "['increas', 'rose', 'improv', 'sign', 'grew', 'expand', 'effici', 'posit', 'doubl', 'award']\n",
      "==========\n"
     ]
    }
   ],
   "source": [
    "idxs = (-model.coef_).argsort(axis=-1)[:,:10]\n",
    "words = tfidf_vectorizer.get_feature_names()\n",
    "for i, idx in enumerate(idxs):\n",
    "    print(le.inverse_transform([i]))\n",
    "    print([words[i] for i in idx])\n",
    "    print(\"=\"*10)\n"
   ]
  },
  {
   "cell_type": "code",
   "execution_count": null,
   "metadata": {},
   "outputs": [],
   "source": []
  }
 ],
 "metadata": {
  "kernelspec": {
   "display_name": "Python 3.7.6 64-bit ('base': conda)",
   "language": "python",
   "name": "python37664bitbaseconda80fe5c60686e44919b5f649c574df925"
  },
  "language_info": {
   "codemirror_mode": {
    "name": "ipython",
    "version": 3
   },
   "file_extension": ".py",
   "mimetype": "text/x-python",
   "name": "python",
   "nbconvert_exporter": "python",
   "pygments_lexer": "ipython3",
   "version": "3.7.9"
  }
 },
 "nbformat": 4,
 "nbformat_minor": 4
}
