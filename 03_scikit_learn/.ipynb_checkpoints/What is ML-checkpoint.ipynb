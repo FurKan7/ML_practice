{
 "cells": [
  {
   "cell_type": "markdown",
   "metadata": {},
   "source": [
    "# What is Machine Learning\n",
    "\n",
    "The simplest way to put it is to find structure in your data. Data Mining used to be doing queries on current datasets. This used to be enough to answer most questions required by a particular business. In some cases it still is sufficient. However, what queries failed to do was find trends in data.\n",
    "\n",
    "## Supervised Learning\n",
    "Datasets with labels.\n",
    "\n",
    "## Unsupervised Learning\n",
    "Unlabelled data. The question is how do we cluster them.\n",
    "\n",
    "## Other types of problems\n",
    "The above two problems is usually 90% of the problems that require solving in ML. However, there are still other problems which are interesting. Two that comes to mind are:\n",
    "1. Reinforcement Learning\n",
    "2. Censored Data"
   ]
  },
  {
   "cell_type": "code",
   "execution_count": null,
   "metadata": {},
   "outputs": [],
   "source": []
  }
 ],
 "metadata": {
  "kernelspec": {
   "display_name": "Python 3",
   "language": "python",
   "name": "python3"
  },
  "language_info": {
   "codemirror_mode": {
    "name": "ipython",
    "version": 3
   },
   "file_extension": ".py",
   "mimetype": "text/x-python",
   "name": "python",
   "nbconvert_exporter": "python",
   "pygments_lexer": "ipython3",
   "version": "3.7.4"
  }
 },
 "nbformat": 4,
 "nbformat_minor": 2
}
