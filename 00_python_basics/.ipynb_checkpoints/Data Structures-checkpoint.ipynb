{
 "cells": [
  {
   "cell_type": "markdown",
   "metadata": {
    "id": "ZSOcGoQS1rnx"
   },
   "source": [
    "# Native Data Structures"
   ]
  },
  {
   "cell_type": "code",
   "execution_count": 1,
   "metadata": {
    "colab": {
     "base_uri": "https://localhost:8080/",
     "height": 35
    },
    "executionInfo": {
     "elapsed": 1141,
     "status": "ok",
     "timestamp": 1601874868425,
     "user": {
      "displayName": "Sachin Abeywardana",
      "photoUrl": "https://lh3.googleusercontent.com/a-/AOh14GiNRLlpAolGeTkvIaXft0Lq63atAhxdJZbGhq8MLQ=s64",
      "userId": "16787685245458597769"
     },
     "user_tz": -660
    },
    "id": "UPQeiHHpz_6F",
    "outputId": "c9a88625-d0e8-40c6-f89d-897bf3be77b1"
   },
   "outputs": [
    {
     "name": "stdout",
     "output_type": "stream",
     "text": [
      "data science\n"
     ]
    }
   ],
   "source": [
    "print(\"data science\")"
   ]
  },
  {
   "cell_type": "code",
   "execution_count": 2,
   "metadata": {
    "executionInfo": {
     "elapsed": 1105,
     "status": "ok",
     "timestamp": 1601874897841,
     "user": {
      "displayName": "Sachin Abeywardana",
      "photoUrl": "https://lh3.googleusercontent.com/a-/AOh14GiNRLlpAolGeTkvIaXft0Lq63atAhxdJZbGhq8MLQ=s64",
      "userId": "16787685245458597769"
     },
     "user_tz": -660
    },
    "id": "8Mo3RtEY1uL0"
   },
   "outputs": [],
   "source": [
    "a = 1\n",
    "b = 2\n",
    "c = a / b"
   ]
  },
  {
   "cell_type": "code",
   "execution_count": 3,
   "metadata": {
    "colab": {
     "base_uri": "https://localhost:8080/",
     "height": 35
    },
    "executionInfo": {
     "elapsed": 1171,
     "status": "ok",
     "timestamp": 1601874907266,
     "user": {
      "displayName": "Sachin Abeywardana",
      "photoUrl": "https://lh3.googleusercontent.com/a-/AOh14GiNRLlpAolGeTkvIaXft0Lq63atAhxdJZbGhq8MLQ=s64",
      "userId": "16787685245458597769"
     },
     "user_tz": -660
    },
    "id": "YIkzwHaGLzzc",
    "outputId": "397c8eb1-b811-4fae-e6ce-1880ea553c52"
   },
   "outputs": [
    {
     "data": {
      "text/plain": [
       "(1, 2, 0.5)"
      ]
     },
     "execution_count": 3,
     "metadata": {
      "tags": []
     },
     "output_type": "execute_result"
    }
   ],
   "source": [
    "a, b, c"
   ]
  },
  {
   "cell_type": "code",
   "execution_count": 4,
   "metadata": {
    "colab": {
     "base_uri": "https://localhost:8080/",
     "height": 69
    },
    "executionInfo": {
     "elapsed": 1087,
     "status": "ok",
     "timestamp": 1601874920122,
     "user": {
      "displayName": "Sachin Abeywardana",
      "photoUrl": "https://lh3.googleusercontent.com/a-/AOh14GiNRLlpAolGeTkvIaXft0Lq63atAhxdJZbGhq8MLQ=s64",
      "userId": "16787685245458597769"
     },
     "user_tz": -660
    },
    "id": "oXlvhZkr116h",
    "outputId": "f68716ac-730e-40ad-de1f-a027be42e09d"
   },
   "outputs": [
    {
     "name": "stdout",
     "output_type": "stream",
     "text": [
      "<class 'int'>\n",
      "<class 'int'>\n",
      "<class 'float'>\n"
     ]
    }
   ],
   "source": [
    "print(type(a))\n",
    "print(type(b))\n",
    "print(type(c))"
   ]
  },
  {
   "cell_type": "code",
   "execution_count": 4,
   "metadata": {
    "executionInfo": {
     "elapsed": 1123,
     "status": "ok",
     "timestamp": 1601874959303,
     "user": {
      "displayName": "Sachin Abeywardana",
      "photoUrl": "https://lh3.googleusercontent.com/a-/AOh14GiNRLlpAolGeTkvIaXft0Lq63atAhxdJZbGhq8MLQ=s64",
      "userId": "16787685245458597769"
     },
     "user_tz": -660
    },
    "id": "DL-xchVQ17dX"
   },
   "outputs": [],
   "source": [
    "d = [1, 2 , 3, 4]"
   ]
  },
  {
   "cell_type": "code",
   "execution_count": 5,
   "metadata": {
    "colab": {
     "base_uri": "https://localhost:8080/",
     "height": 35
    },
    "executionInfo": {
     "elapsed": 1029,
     "status": "ok",
     "timestamp": 1601874964043,
     "user": {
      "displayName": "Sachin Abeywardana",
      "photoUrl": "https://lh3.googleusercontent.com/a-/AOh14GiNRLlpAolGeTkvIaXft0Lq63atAhxdJZbGhq8MLQ=s64",
      "userId": "16787685245458597769"
     },
     "user_tz": -660
    },
    "id": "VtEwMOsd1_ws",
    "outputId": "fcb3205a-8ca2-4e24-9594-82d043ec32bb"
   },
   "outputs": [
    {
     "data": {
      "text/plain": [
       "list"
      ]
     },
     "execution_count": 5,
     "metadata": {},
     "output_type": "execute_result"
    }
   ],
   "source": [
    "type(d)"
   ]
  },
  {
   "cell_type": "code",
   "execution_count": 6,
   "metadata": {},
   "outputs": [
    {
     "data": {
      "text/plain": [
       "1"
      ]
     },
     "execution_count": 6,
     "metadata": {},
     "output_type": "execute_result"
    }
   ],
   "source": [
    "d[0]"
   ]
  },
  {
   "cell_type": "code",
   "execution_count": 7,
   "metadata": {
    "executionInfo": {
     "elapsed": 1215,
     "status": "ok",
     "timestamp": 1601874978334,
     "user": {
      "displayName": "Sachin Abeywardana",
      "photoUrl": "https://lh3.googleusercontent.com/a-/AOh14GiNRLlpAolGeTkvIaXft0Lq63atAhxdJZbGhq8MLQ=s64",
      "userId": "16787685245458597769"
     },
     "user_tz": -660
    },
    "id": "BSvHTy2A2Apx"
   },
   "outputs": [],
   "source": [
    "d.append(\"cat\")"
   ]
  },
  {
   "cell_type": "code",
   "execution_count": 8,
   "metadata": {
    "colab": {
     "base_uri": "https://localhost:8080/",
     "height": 35
    },
    "executionInfo": {
     "elapsed": 877,
     "status": "ok",
     "timestamp": 1601874978334,
     "user": {
      "displayName": "Sachin Abeywardana",
      "photoUrl": "https://lh3.googleusercontent.com/a-/AOh14GiNRLlpAolGeTkvIaXft0Lq63atAhxdJZbGhq8MLQ=s64",
      "userId": "16787685245458597769"
     },
     "user_tz": -660
    },
    "id": "Hd9UkHXv2DiQ",
    "outputId": "59e5d4ef-9a28-4e27-f61f-69cad9a29cf1"
   },
   "outputs": [
    {
     "data": {
      "text/plain": [
       "[1, 2, 3, 4, 'cat']"
      ]
     },
     "execution_count": 8,
     "metadata": {
      "tags": []
     },
     "output_type": "execute_result"
    }
   ],
   "source": [
    "d"
   ]
  },
  {
   "cell_type": "markdown",
   "metadata": {
    "id": "AtxQ6EwS1WM_"
   },
   "source": [
    "Accessing Elements"
   ]
  },
  {
   "cell_type": "code",
   "execution_count": 9,
   "metadata": {
    "colab": {
     "base_uri": "https://localhost:8080/",
     "height": 35
    },
    "executionInfo": {
     "elapsed": 1062,
     "status": "ok",
     "timestamp": 1601874999520,
     "user": {
      "displayName": "Sachin Abeywardana",
      "photoUrl": "https://lh3.googleusercontent.com/a-/AOh14GiNRLlpAolGeTkvIaXft0Lq63atAhxdJZbGhq8MLQ=s64",
      "userId": "16787685245458597769"
     },
     "user_tz": -660
    },
    "id": "Q2DLTuTp2EmN",
    "outputId": "e8ccb011-72b8-4f7e-b080-bf14b88677fe"
   },
   "outputs": [
    {
     "data": {
      "application/vnd.google.colaboratory.intrinsic+json": {
       "type": "string"
      },
      "text/plain": [
       "'cat'"
      ]
     },
     "execution_count": 9,
     "metadata": {
      "tags": []
     },
     "output_type": "execute_result"
    }
   ],
   "source": [
    "d[-1]"
   ]
  },
  {
   "cell_type": "code",
   "execution_count": 10,
   "metadata": {
    "colab": {
     "base_uri": "https://localhost:8080/",
     "height": 35
    },
    "executionInfo": {
     "elapsed": 1063,
     "status": "ok",
     "timestamp": 1601875024116,
     "user": {
      "displayName": "Sachin Abeywardana",
      "photoUrl": "https://lh3.googleusercontent.com/a-/AOh14GiNRLlpAolGeTkvIaXft0Lq63atAhxdJZbGhq8MLQ=s64",
      "userId": "16787685245458597769"
     },
     "user_tz": -660
    },
    "id": "iuOmcwys2Mog",
    "outputId": "86fe8450-8c9c-43d9-e533-e7a12c0b68ea"
   },
   "outputs": [
    {
     "data": {
      "text/plain": [
       "4"
      ]
     },
     "execution_count": 10,
     "metadata": {
      "tags": []
     },
     "output_type": "execute_result"
    }
   ],
   "source": [
    "d[3]"
   ]
  },
  {
   "cell_type": "markdown",
   "metadata": {
    "id": "M8dueIqm2X4Q"
   },
   "source": [
    "## List comprehension"
   ]
  },
  {
   "cell_type": "code",
   "execution_count": 11,
   "metadata": {
    "colab": {
     "base_uri": "https://localhost:8080/",
     "height": 35
    },
    "executionInfo": {
     "elapsed": 1316,
     "status": "ok",
     "timestamp": 1601875053441,
     "user": {
      "displayName": "Sachin Abeywardana",
      "photoUrl": "https://lh3.googleusercontent.com/a-/AOh14GiNRLlpAolGeTkvIaXft0Lq63atAhxdJZbGhq8MLQ=s64",
      "userId": "16787685245458597769"
     },
     "user_tz": -660
    },
    "id": "NAFL9UWM2W-4",
    "outputId": "0e16bcf0-9bf0-42d6-f56b-42b18e7e28fd"
   },
   "outputs": [
    {
     "data": {
      "application/vnd.google.colaboratory.intrinsic+json": {
       "type": "string"
      },
      "text/plain": [
       "'cat'"
      ]
     },
     "execution_count": 11,
     "metadata": {
      "tags": []
     },
     "output_type": "execute_result"
    }
   ],
   "source": [
    "d.pop()"
   ]
  },
  {
   "cell_type": "code",
   "execution_count": 12,
   "metadata": {
    "colab": {
     "base_uri": "https://localhost:8080/",
     "height": 35
    },
    "executionInfo": {
     "elapsed": 668,
     "status": "ok",
     "timestamp": 1601875053442,
     "user": {
      "displayName": "Sachin Abeywardana",
      "photoUrl": "https://lh3.googleusercontent.com/a-/AOh14GiNRLlpAolGeTkvIaXft0Lq63atAhxdJZbGhq8MLQ=s64",
      "userId": "16787685245458597769"
     },
     "user_tz": -660
    },
    "id": "wZV4bZEI2OJe",
    "outputId": "7379fdf7-fe47-446b-f268-95cb050cfe08"
   },
   "outputs": [
    {
     "data": {
      "text/plain": [
       "[1, 2, 3, 4]"
      ]
     },
     "execution_count": 12,
     "metadata": {
      "tags": []
     },
     "output_type": "execute_result"
    }
   ],
   "source": [
    "d"
   ]
  },
  {
   "cell_type": "code",
   "execution_count": null,
   "metadata": {
    "colab": {
     "base_uri": "https://localhost:8080/",
     "height": 35
    },
    "executionInfo": {
     "elapsed": 2096,
     "status": "ok",
     "timestamp": 1577340857046,
     "user": {
      "displayName": "Sachinthaka Abeywardana",
      "photoUrl": "https://lh3.googleusercontent.com/a-/AAuE7mDhwnE1OqcD_RMLZwN1T8d7DrZfDcFI927-TNsGSw=s64",
      "userId": "16787685245458597769"
     },
     "user_tz": -660
    },
    "id": "WH6FiN862cPU",
    "outputId": "2acba633-6cbb-43b9-8fe6-28f24731ba3f"
   },
   "outputs": [
    {
     "data": {
      "text/plain": [
       "[1, 4, 9, 16]"
      ]
     },
     "execution_count": 17,
     "metadata": {
      "tags": []
     },
     "output_type": "execute_result"
    }
   ],
   "source": [
    "[elem**2 for elem in d]"
   ]
  },
  {
   "cell_type": "code",
   "execution_count": 13,
   "metadata": {
    "colab": {
     "base_uri": "https://localhost:8080/",
     "height": 35
    },
    "executionInfo": {
     "elapsed": 1453,
     "status": "ok",
     "timestamp": 1601875124030,
     "user": {
      "displayName": "Sachin Abeywardana",
      "photoUrl": "https://lh3.googleusercontent.com/a-/AOh14GiNRLlpAolGeTkvIaXft0Lq63atAhxdJZbGhq8MLQ=s64",
      "userId": "16787685245458597769"
     },
     "user_tz": -660
    },
    "id": "yTzR-f49MjQg",
    "outputId": "cf9e1659-3bab-495c-eacb-d172265ce646"
   },
   "outputs": [
    {
     "data": {
      "text/plain": [
       "[1, 4, 9, 16]"
      ]
     },
     "execution_count": 13,
     "metadata": {
      "tags": []
     },
     "output_type": "execute_result"
    }
   ],
   "source": [
    "newlist = []\n",
    "for elem in d:\n",
    "    newlist.append(elem**2)\n",
    "\n",
    "newlist"
   ]
  },
  {
   "cell_type": "markdown",
   "metadata": {
    "id": "10sR27sF2m28"
   },
   "source": [
    "## Dictionaries"
   ]
  },
  {
   "cell_type": "code",
   "execution_count": 17,
   "metadata": {
    "executionInfo": {
     "elapsed": 1350,
     "status": "ok",
     "timestamp": 1601875266595,
     "user": {
      "displayName": "Sachin Abeywardana",
      "photoUrl": "https://lh3.googleusercontent.com/a-/AOh14GiNRLlpAolGeTkvIaXft0Lq63atAhxdJZbGhq8MLQ=s64",
      "userId": "16787685245458597769"
     },
     "user_tz": -660
    },
    "id": "Yp9JqubV2jOo"
   },
   "outputs": [],
   "source": [
    "e = {'a':1, 'b':2, 'dog':'best'}"
   ]
  },
  {
   "cell_type": "code",
   "execution_count": 14,
   "metadata": {
    "executionInfo": {
     "elapsed": 1063,
     "status": "ok",
     "timestamp": 1601875213348,
     "user": {
      "displayName": "Sachin Abeywardana",
      "photoUrl": "https://lh3.googleusercontent.com/a-/AOh14GiNRLlpAolGeTkvIaXft0Lq63atAhxdJZbGhq8MLQ=s64",
      "userId": "16787685245458597769"
     },
     "user_tz": -660
    },
    "id": "ZsUYnRBnM5dz"
   },
   "outputs": [],
   "source": [
    "password_dict = {\"password1\":\"abc\", \"password2\": \"dce\"}"
   ]
  },
  {
   "cell_type": "code",
   "execution_count": 15,
   "metadata": {
    "colab": {
     "base_uri": "https://localhost:8080/",
     "height": 35
    },
    "executionInfo": {
     "elapsed": 1195,
     "status": "ok",
     "timestamp": 1601875228795,
     "user": {
      "displayName": "Sachin Abeywardana",
      "photoUrl": "https://lh3.googleusercontent.com/a-/AOh14GiNRLlpAolGeTkvIaXft0Lq63atAhxdJZbGhq8MLQ=s64",
      "userId": "16787685245458597769"
     },
     "user_tz": -660
    },
    "id": "bHcmzZxbM_8D",
    "outputId": "2a240f45-525e-4213-f413-d9f422aa2855"
   },
   "outputs": [
    {
     "data": {
      "application/vnd.google.colaboratory.intrinsic+json": {
       "type": "string"
      },
      "text/plain": [
       "'dce'"
      ]
     },
     "execution_count": 15,
     "metadata": {
      "tags": []
     },
     "output_type": "execute_result"
    }
   ],
   "source": [
    "password_dict[\"password2\"]"
   ]
  },
  {
   "cell_type": "code",
   "execution_count": 18,
   "metadata": {
    "colab": {
     "base_uri": "https://localhost:8080/",
     "height": 35
    },
    "executionInfo": {
     "elapsed": 1179,
     "status": "ok",
     "timestamp": 1601875269069,
     "user": {
      "displayName": "Sachin Abeywardana",
      "photoUrl": "https://lh3.googleusercontent.com/a-/AOh14GiNRLlpAolGeTkvIaXft0Lq63atAhxdJZbGhq8MLQ=s64",
      "userId": "16787685245458597769"
     },
     "user_tz": -660
    },
    "id": "VukkGF3E2uvv",
    "outputId": "cb31df1c-abc9-4324-f482-5d0592f5fa79"
   },
   "outputs": [
    {
     "data": {
      "text/plain": [
       "(2, 'best')"
      ]
     },
     "execution_count": 18,
     "metadata": {
      "tags": []
     },
     "output_type": "execute_result"
    }
   ],
   "source": [
    "e['b'], e['dog']"
   ]
  },
  {
   "cell_type": "code",
   "execution_count": 19,
   "metadata": {
    "executionInfo": {
     "elapsed": 1194,
     "status": "ok",
     "timestamp": 1601875278357,
     "user": {
      "displayName": "Sachin Abeywardana",
      "photoUrl": "https://lh3.googleusercontent.com/a-/AOh14GiNRLlpAolGeTkvIaXft0Lq63atAhxdJZbGhq8MLQ=s64",
      "userId": "16787685245458597769"
     },
     "user_tz": -660
    },
    "id": "U7x-5JsA222F"
   },
   "outputs": [],
   "source": [
    "e['cat'] = 'ok'"
   ]
  },
  {
   "cell_type": "code",
   "execution_count": null,
   "metadata": {
    "colab": {
     "base_uri": "https://localhost:8080/",
     "height": 34
    },
    "executionInfo": {
     "elapsed": 553,
     "status": "ok",
     "timestamp": 1577190160894,
     "user": {
      "displayName": "Sachinthaka Abeywardana",
      "photoUrl": "https://lh3.googleusercontent.com/a-/AAuE7mDhwnE1OqcD_RMLZwN1T8d7DrZfDcFI927-TNsGSw=s64",
      "userId": "16787685245458597769"
     },
     "user_tz": -660
    },
    "id": "JfdGSMJe2-6C",
    "outputId": "89fe9f3b-622e-47a6-d697-d90bb86d593a"
   },
   "outputs": [
    {
     "data": {
      "text/plain": [
       "{'a': 1, 'b': 2, 'cat': 'ok', 'dog': 'best'}"
      ]
     },
     "execution_count": 17,
     "metadata": {
      "tags": []
     },
     "output_type": "execute_result"
    }
   ],
   "source": [
    "e"
   ]
  },
  {
   "cell_type": "code",
   "execution_count": null,
   "metadata": {
    "id": "CPsd1-WN2_cP"
   },
   "outputs": [],
   "source": [
    "mylist = ['a', 'b', 'c']\n",
    "mydict = {a:a+a for a in mylist}"
   ]
  },
  {
   "cell_type": "code",
   "execution_count": null,
   "metadata": {
    "colab": {
     "base_uri": "https://localhost:8080/",
     "height": 35
    },
    "executionInfo": {
     "elapsed": 1408,
     "status": "ok",
     "timestamp": 1577341055378,
     "user": {
      "displayName": "Sachinthaka Abeywardana",
      "photoUrl": "https://lh3.googleusercontent.com/a-/AAuE7mDhwnE1OqcD_RMLZwN1T8d7DrZfDcFI927-TNsGSw=s64",
      "userId": "16787685245458597769"
     },
     "user_tz": -660
    },
    "id": "N9MA3Gqf3PBA",
    "outputId": "723914de-f5e1-4924-bb05-c09b76bcf140"
   },
   "outputs": [
    {
     "data": {
      "text/plain": [
       "{'a': 'aa', 'b': 'bb', 'c': 'cc'}"
      ]
     },
     "execution_count": 23,
     "metadata": {
      "tags": []
     },
     "output_type": "execute_result"
    }
   ],
   "source": [
    "mydict"
   ]
  },
  {
   "cell_type": "code",
   "execution_count": 21,
   "metadata": {
    "colab": {
     "base_uri": "https://localhost:8080/",
     "height": 35
    },
    "executionInfo": {
     "elapsed": 1185,
     "status": "ok",
     "timestamp": 1601875340913,
     "user": {
      "displayName": "Sachin Abeywardana",
      "photoUrl": "https://lh3.googleusercontent.com/a-/AOh14GiNRLlpAolGeTkvIaXft0Lq63atAhxdJZbGhq8MLQ=s64",
      "userId": "16787685245458597769"
     },
     "user_tz": -660
    },
    "id": "p2vqGZNn3R4H",
    "outputId": "3c84bfbb-ff83-48e5-d770-3006dd20f206"
   },
   "outputs": [
    {
     "data": {
      "application/vnd.google.colaboratory.intrinsic+json": {
       "type": "string"
      },
      "text/plain": [
       "'cat dog'"
      ]
     },
     "execution_count": 21,
     "metadata": {
      "tags": []
     },
     "output_type": "execute_result"
    }
   ],
   "source": [
    "\"cat\" + \" \" + \"dog\""
   ]
  },
  {
   "cell_type": "code",
   "execution_count": null,
   "metadata": {
    "id": "2QePzV6KNah9"
   },
   "outputs": [],
   "source": []
  }
 ],
 "metadata": {
  "colab": {
   "name": "Data Structures.ipynb",
   "provenance": []
  },
  "kernelspec": {
   "display_name": "Python 3",
   "language": "python",
   "name": "python3"
  },
  "language_info": {
   "codemirror_mode": {
    "name": "ipython",
    "version": 3
   },
   "file_extension": ".py",
   "mimetype": "text/x-python",
   "name": "python",
   "nbconvert_exporter": "python",
   "pygments_lexer": "ipython3",
   "version": "3.7.9"
  }
 },
 "nbformat": 4,
 "nbformat_minor": 1
}
