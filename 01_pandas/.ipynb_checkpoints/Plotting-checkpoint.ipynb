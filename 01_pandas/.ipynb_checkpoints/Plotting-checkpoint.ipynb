{
 "cells": [
  {
   "cell_type": "code",
   "execution_count": 0,
   "metadata": {
    "colab": {},
    "colab_type": "code",
    "id": "4v6zocJC_RCu"
   },
   "outputs": [],
   "source": [
    "import pandas as pd\n",
    "import numpy as np\n",
    "import matplotlib.pyplot as plt\n",
    "\n",
    "%matplotlib inline"
   ]
  },
  {
   "cell_type": "code",
   "execution_count": 2,
   "metadata": {
    "colab": {
     "base_uri": "https://localhost:8080/",
     "height": 404
    },
    "colab_type": "code",
    "executionInfo": {
     "elapsed": 2100,
     "status": "ok",
     "timestamp": 1577259515197,
     "user": {
      "displayName": "Sachinthaka Abeywardana",
      "photoUrl": "https://lh3.googleusercontent.com/a-/AAuE7mDhwnE1OqcD_RMLZwN1T8d7DrZfDcFI927-TNsGSw=s64",
      "userId": "16787685245458597769"
     },
     "user_tz": -660
    },
    "id": "RbBe-vD-_fSR",
    "outputId": "18ef3802-f0fd-4a36-d0ab-b3c92e90314d"
   },
   "outputs": [
    {
     "name": "stderr",
     "output_type": "stream",
     "text": [
      "--2019-12-25 07:38:34--  https://www.dropbox.com/s/8to8k2n9feaiim9/train.csv?dl=1\n",
      "Resolving www.dropbox.com (www.dropbox.com)... 162.125.65.1, 2620:100:6021:1::a27d:4101\n",
      "Connecting to www.dropbox.com (www.dropbox.com)|162.125.65.1|:443... connected.\n",
      "HTTP request sent, awaiting response... 301 Moved Permanently\n",
      "Location: /s/dl/8to8k2n9feaiim9/train.csv [following]\n",
      "--2019-12-25 07:38:35--  https://www.dropbox.com/s/dl/8to8k2n9feaiim9/train.csv\n",
      "Reusing existing connection to www.dropbox.com:443.\n",
      "HTTP request sent, awaiting response... 302 Found\n",
      "Location: https://ucbcfc6bc498ed505b4d0cc5871b.dl.dropboxusercontent.com/cd/0/get/Au7UeA8flF0fjig-Vnsnx_hTJbrvYf7GHBhx6PBMz4jrK8fWuJJ5KnfqeP6rOLn6quQJiHhAjwGuIw4PD_13W9cXkpVbFhcBilLNKB8kySzP4eZAcXY78-mV9acvRS4-_Pw/file?dl=1# [following]\n",
      "--2019-12-25 07:38:35--  https://ucbcfc6bc498ed505b4d0cc5871b.dl.dropboxusercontent.com/cd/0/get/Au7UeA8flF0fjig-Vnsnx_hTJbrvYf7GHBhx6PBMz4jrK8fWuJJ5KnfqeP6rOLn6quQJiHhAjwGuIw4PD_13W9cXkpVbFhcBilLNKB8kySzP4eZAcXY78-mV9acvRS4-_Pw/file?dl=1\n",
      "Resolving ucbcfc6bc498ed505b4d0cc5871b.dl.dropboxusercontent.com (ucbcfc6bc498ed505b4d0cc5871b.dl.dropboxusercontent.com)... 162.125.65.6, 2620:100:6021:6::a27d:4106\n",
      "Connecting to ucbcfc6bc498ed505b4d0cc5871b.dl.dropboxusercontent.com (ucbcfc6bc498ed505b4d0cc5871b.dl.dropboxusercontent.com)|162.125.65.6|:443... connected.\n",
      "HTTP request sent, awaiting response... 200 OK\n",
      "Length: 61194 (60K) [application/binary]\n",
      "Saving to: ‘./train.csv’\n",
      "\n",
      "     0K .......... .......... .......... .......... .......... 83% 6.12M 0s\n",
      "    50K .........                                             100% 38.5M=0.008s\n",
      "\n",
      "2019-12-25 07:38:35 (7.09 MB/s) - ‘./train.csv’ saved [61194/61194]\n",
      "\n"
     ]
    }
   ],
   "source": [
    "%%bash\n",
    "wget -O ./train.csv https://www.dropbox.com/s/8to8k2n9feaiim9/train.csv?dl=1"
   ]
  },
  {
   "cell_type": "code",
   "execution_count": 3,
   "metadata": {
    "colab": {
     "base_uri": "https://localhost:8080/",
     "height": 513
    },
    "colab_type": "code",
    "executionInfo": {
     "elapsed": 1025,
     "status": "ok",
     "timestamp": 1577259528252,
     "user": {
      "displayName": "Sachinthaka Abeywardana",
      "photoUrl": "https://lh3.googleusercontent.com/a-/AAuE7mDhwnE1OqcD_RMLZwN1T8d7DrZfDcFI927-TNsGSw=s64",
      "userId": "16787685245458597769"
     },
     "user_tz": -660
    },
    "id": "_goh7eRr_jSf",
    "outputId": "e39f49f4-389f-4f18-d9eb-3c3f4cd9b9fd"
   },
   "outputs": [
    {
     "name": "stdout",
     "output_type": "stream",
     "text": [
      "(891, 12)\n"
     ]
    },
    {
     "data": {
      "text/html": [
       "<div>\n",
       "<style scoped>\n",
       "    .dataframe tbody tr th:only-of-type {\n",
       "        vertical-align: middle;\n",
       "    }\n",
       "\n",
       "    .dataframe tbody tr th {\n",
       "        vertical-align: top;\n",
       "    }\n",
       "\n",
       "    .dataframe thead th {\n",
       "        text-align: right;\n",
       "    }\n",
       "</style>\n",
       "<table border=\"1\" class=\"dataframe\">\n",
       "  <thead>\n",
       "    <tr style=\"text-align: right;\">\n",
       "      <th></th>\n",
       "      <th>PassengerId</th>\n",
       "      <th>Survived</th>\n",
       "      <th>Pclass</th>\n",
       "      <th>Name</th>\n",
       "      <th>Sex</th>\n",
       "      <th>Age</th>\n",
       "      <th>SibSp</th>\n",
       "      <th>Parch</th>\n",
       "      <th>Ticket</th>\n",
       "      <th>Fare</th>\n",
       "      <th>Cabin</th>\n",
       "      <th>Embarked</th>\n",
       "    </tr>\n",
       "  </thead>\n",
       "  <tbody>\n",
       "    <tr>\n",
       "      <th>0</th>\n",
       "      <td>1</td>\n",
       "      <td>0</td>\n",
       "      <td>3</td>\n",
       "      <td>Braund, Mr. Owen Harris</td>\n",
       "      <td>male</td>\n",
       "      <td>22.0</td>\n",
       "      <td>1</td>\n",
       "      <td>0</td>\n",
       "      <td>A/5 21171</td>\n",
       "      <td>7.2500</td>\n",
       "      <td>NaN</td>\n",
       "      <td>S</td>\n",
       "    </tr>\n",
       "    <tr>\n",
       "      <th>1</th>\n",
       "      <td>2</td>\n",
       "      <td>1</td>\n",
       "      <td>1</td>\n",
       "      <td>Cumings, Mrs. John Bradley (Florence Briggs Th...</td>\n",
       "      <td>female</td>\n",
       "      <td>38.0</td>\n",
       "      <td>1</td>\n",
       "      <td>0</td>\n",
       "      <td>PC 17599</td>\n",
       "      <td>71.2833</td>\n",
       "      <td>C85</td>\n",
       "      <td>C</td>\n",
       "    </tr>\n",
       "    <tr>\n",
       "      <th>2</th>\n",
       "      <td>3</td>\n",
       "      <td>1</td>\n",
       "      <td>3</td>\n",
       "      <td>Heikkinen, Miss. Laina</td>\n",
       "      <td>female</td>\n",
       "      <td>26.0</td>\n",
       "      <td>0</td>\n",
       "      <td>0</td>\n",
       "      <td>STON/O2. 3101282</td>\n",
       "      <td>7.9250</td>\n",
       "      <td>NaN</td>\n",
       "      <td>S</td>\n",
       "    </tr>\n",
       "    <tr>\n",
       "      <th>3</th>\n",
       "      <td>4</td>\n",
       "      <td>1</td>\n",
       "      <td>1</td>\n",
       "      <td>Futrelle, Mrs. Jacques Heath (Lily May Peel)</td>\n",
       "      <td>female</td>\n",
       "      <td>35.0</td>\n",
       "      <td>1</td>\n",
       "      <td>0</td>\n",
       "      <td>113803</td>\n",
       "      <td>53.1000</td>\n",
       "      <td>C123</td>\n",
       "      <td>S</td>\n",
       "    </tr>\n",
       "    <tr>\n",
       "      <th>4</th>\n",
       "      <td>5</td>\n",
       "      <td>0</td>\n",
       "      <td>3</td>\n",
       "      <td>Allen, Mr. William Henry</td>\n",
       "      <td>male</td>\n",
       "      <td>35.0</td>\n",
       "      <td>0</td>\n",
       "      <td>0</td>\n",
       "      <td>373450</td>\n",
       "      <td>8.0500</td>\n",
       "      <td>NaN</td>\n",
       "      <td>S</td>\n",
       "    </tr>\n",
       "  </tbody>\n",
       "</table>\n",
       "</div>"
      ],
      "text/plain": [
       "   PassengerId  Survived  Pclass  ...     Fare Cabin  Embarked\n",
       "0            1         0       3  ...   7.2500   NaN         S\n",
       "1            2         1       1  ...  71.2833   C85         C\n",
       "2            3         1       3  ...   7.9250   NaN         S\n",
       "3            4         1       1  ...  53.1000  C123         S\n",
       "4            5         0       3  ...   8.0500   NaN         S\n",
       "\n",
       "[5 rows x 12 columns]"
      ]
     },
     "execution_count": 3,
     "metadata": {
      "tags": []
     },
     "output_type": "execute_result"
    }
   ],
   "source": [
    "df = pd.read_csv(\"./train.csv\")\n",
    "print(df.shape)\n",
    "df.head()"
   ]
  },
  {
   "cell_type": "code",
   "execution_count": 7,
   "metadata": {
    "colab": {
     "base_uri": "https://localhost:8080/",
     "height": 265
    },
    "colab_type": "code",
    "executionInfo": {
     "elapsed": 1293,
     "status": "ok",
     "timestamp": 1577259726735,
     "user": {
      "displayName": "Sachinthaka Abeywardana",
      "photoUrl": "https://lh3.googleusercontent.com/a-/AAuE7mDhwnE1OqcD_RMLZwN1T8d7DrZfDcFI927-TNsGSw=s64",
      "userId": "16787685245458597769"
     },
     "user_tz": -660
    },
    "id": "svra9IVt_mu4",
    "outputId": "3ac81e86-bb64-4764-b403-87af108cfa6a"
   },
   "outputs": [
    {
     "data": {
      "image/png": "[encoded data removed]",
      "text/plain": [
       "<Figure size 432x288 with 1 Axes>"
      ]
     },
     "metadata": {
      "tags": []
     },
     "output_type": "display_data"
    }
   ],
   "source": [
    "x = np.arange(-5, 5, 0.1)\n",
    "y = np.square(x)\n",
    "plt.plot(x, y)\n",
    "# plt.title('$y=x^2$')\n",
    "# plt.xlabel('x')\n",
    "# plt.ylabel('y')\n",
    "plt.show()"
   ]
  },
  {
   "cell_type": "code",
   "execution_count": 9,
   "metadata": {
    "colab": {
     "base_uri": "https://localhost:8080/",
     "height": 265
    },
    "colab_type": "code",
    "executionInfo": {
     "elapsed": 1124,
     "status": "ok",
     "timestamp": 1577259770594,
     "user": {
      "displayName": "Sachinthaka Abeywardana",
      "photoUrl": "https://lh3.googleusercontent.com/a-/AAuE7mDhwnE1OqcD_RMLZwN1T8d7DrZfDcFI927-TNsGSw=s64",
      "userId": "16787685245458597769"
     },
     "user_tz": -660
    },
    "id": "1_5EC_39ABzi",
    "outputId": "fa15eeb8-26c0-4d39-f18e-4bc94839a7f6"
   },
   "outputs": [
    {
     "data": {
      "image/png": "[encoded data removed]",
      "text/plain": [
       "<Figure size 432x288 with 1 Axes>"
      ]
     },
     "metadata": {
      "tags": []
     },
     "output_type": "display_data"
    }
   ],
   "source": [
    "plt.hist(df.Fare, bins=30)\n",
    "plt.show()"
   ]
  },
  {
   "cell_type": "code",
   "execution_count": 10,
   "metadata": {
    "colab": {
     "base_uri": "https://localhost:8080/",
     "height": 281
    },
    "colab_type": "code",
    "executionInfo": {
     "elapsed": 1187,
     "status": "ok",
     "timestamp": 1577259806026,
     "user": {
      "displayName": "Sachinthaka Abeywardana",
      "photoUrl": "https://lh3.googleusercontent.com/a-/AAuE7mDhwnE1OqcD_RMLZwN1T8d7DrZfDcFI927-TNsGSw=s64",
      "userId": "16787685245458597769"
     },
     "user_tz": -660
    },
    "id": "cikzZu28AfUB",
    "outputId": "d6f852e1-5a96-457d-f660-b0e81e9d522d"
   },
   "outputs": [
    {
     "data": {
      "image/png": "[encoded data removed]",
      "text/plain": [
       "<Figure size 432x288 with 1 Axes>"
      ]
     },
     "metadata": {
      "tags": []
     },
     "output_type": "display_data"
    }
   ],
   "source": [
    "plt.scatter(df.Age, df.Fare)\n",
    "plt.title('Fare vs Age')\n",
    "plt.show()"
   ]
  },
  {
   "cell_type": "code",
   "execution_count": 15,
   "metadata": {
    "colab": {
     "base_uri": "https://localhost:8080/",
     "height": 265
    },
    "colab_type": "code",
    "executionInfo": {
     "elapsed": 1155,
     "status": "ok",
     "timestamp": 1577260109941,
     "user": {
      "displayName": "Sachinthaka Abeywardana",
      "photoUrl": "https://lh3.googleusercontent.com/a-/AAuE7mDhwnE1OqcD_RMLZwN1T8d7DrZfDcFI927-TNsGSw=s64",
      "userId": "16787685245458597769"
     },
     "user_tz": -660
    },
    "id": "G39hoZoZAqhM",
    "outputId": "d2741ccf-85bd-4952-9321-02ab7122416a"
   },
   "outputs": [
    {
     "data": {
      "image/png": "[encoded data removed]",
      "text/plain": [
       "<Figure size 432x288 with 1 Axes>"
      ]
     },
     "metadata": {
      "tags": []
     },
     "output_type": "display_data"
    }
   ],
   "source": [
    "df['log_fare'] = np.log(1 + df.Fare)\n",
    "for c in df.Pclass.unique():\n",
    "    plt.hist(df.loc[df.Pclass==c, 'log_fare'], bins=30, alpha=0.3, label=c)\n",
    "plt.legend()\n",
    "plt.show()"
   ]
  },
  {
   "cell_type": "code",
   "execution_count": 0,
   "metadata": {
    "colab": {},
    "colab_type": "code",
    "id": "8yq4gVUPBuUr"
   },
   "outputs": [],
   "source": []
  }
 ],
 "metadata": {
  "colab": {
   "name": "Plotting.ipynb",
   "provenance": []
  },
  "kernelspec": {
   "display_name": "Python 3",
   "language": "python",
   "name": "python3"
  },
  "language_info": {
   "codemirror_mode": {
    "name": "ipython",
    "version": 3
   },
   "file_extension": ".py",
   "mimetype": "text/x-python",
   "name": "python",
   "nbconvert_exporter": "python",
   "pygments_lexer": "ipython3",
   "version": "3.7.4"
  }
 },
 "nbformat": 4,
 "nbformat_minor": 1
}
